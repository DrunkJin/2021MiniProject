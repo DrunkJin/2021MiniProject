{
 "cells": [
  {
   "cell_type": "code",
   "execution_count": 1,
   "id": "67793a7e",
   "metadata": {},
   "outputs": [],
   "source": [
    "import pandas as pd\n",
    "import numpy as np\n",
    "%matplotlib inline\n",
    "import matplotlib.pyplot as plt\n",
    "import re\n",
    "import urllib.request\n",
    "from konlpy.tag import Okt\n",
    "from tensorflow.keras.preprocessing.text import Tokenizer\n",
    "from tensorflow.keras.preprocessing.sequence import pad_sequences\n"
   ]
  },
  {
   "cell_type": "code",
   "execution_count": 2,
   "id": "8588291d",
   "metadata": {},
   "outputs": [],
   "source": [
    "data = pd.read_csv('Combined_dataset.csv')"
   ]
  },
  {
   "cell_type": "code",
   "execution_count": 3,
   "id": "c123964d",
   "metadata": {},
   "outputs": [],
   "source": [
    "data2 = data.drop(['감정_str'], axis = 1)"
   ]
  },
  {
   "cell_type": "code",
   "execution_count": 4,
   "id": "1f6aae3b",
   "metadata": {},
   "outputs": [
    {
     "data": {
      "text/plain": [
       "(89731, 7)"
      ]
     },
     "execution_count": 4,
     "metadata": {},
     "output_type": "execute_result"
    }
   ],
   "source": [
    "data2['발화'].nunique(), data2['감정_int'].nunique()"
   ]
  },
  {
   "cell_type": "code",
   "execution_count": 5,
   "id": "b038f7fc",
   "metadata": {},
   "outputs": [],
   "source": [
    "data2.drop_duplicates(subset = [\"발화\"], inplace = True)"
   ]
  },
  {
   "cell_type": "code",
   "execution_count": 6,
   "id": "d5660a83",
   "metadata": {},
   "outputs": [
    {
     "data": {
      "text/plain": [
       "발화        0\n",
       "감정_int    0\n",
       "dtype: int64"
      ]
     },
     "execution_count": 6,
     "metadata": {},
     "output_type": "execute_result"
    }
   ],
   "source": [
    "data2.isnull().sum()"
   ]
  },
  {
   "cell_type": "code",
   "execution_count": 7,
   "id": "3467b9ff",
   "metadata": {},
   "outputs": [],
   "source": [
    "from sklearn.model_selection import train_test_split\n",
    "\n",
    "train1, train2 = train_test_split(data2, test_size=0.25, random_state=0)"
   ]
  },
  {
   "cell_type": "code",
   "execution_count": 8,
   "id": "3fde582c",
   "metadata": {},
   "outputs": [
    {
     "name": "stderr",
     "output_type": "stream",
     "text": [
      "<ipython-input-8-94f5e7172e7d>:1: FutureWarning: The default value of regex will change from True to False in a future version.\n",
      "  train1['발화'] = train1['발화'].str.replace(\"[^ㄱ-ㅎㅏ-ㅣ가-힣 ]\",\"\")\n",
      "<ipython-input-8-94f5e7172e7d>:1: SettingWithCopyWarning: \n",
      "A value is trying to be set on a copy of a slice from a DataFrame.\n",
      "Try using .loc[row_indexer,col_indexer] = value instead\n",
      "\n",
      "See the caveats in the documentation: https://pandas.pydata.org/pandas-docs/stable/user_guide/indexing.html#returning-a-view-versus-a-copy\n",
      "  train1['발화'] = train1['발화'].str.replace(\"[^ㄱ-ㅎㅏ-ㅣ가-힣 ]\",\"\")\n",
      "<ipython-input-8-94f5e7172e7d>:2: FutureWarning: The default value of regex will change from True to False in a future version.\n",
      "  train2['발화'] = train2['발화'].str.replace(\"[^ㄱ-ㅎㅏ-ㅣ가-힣 ]\",\"\")\n",
      "<ipython-input-8-94f5e7172e7d>:2: SettingWithCopyWarning: \n",
      "A value is trying to be set on a copy of a slice from a DataFrame.\n",
      "Try using .loc[row_indexer,col_indexer] = value instead\n",
      "\n",
      "See the caveats in the documentation: https://pandas.pydata.org/pandas-docs/stable/user_guide/indexing.html#returning-a-view-versus-a-copy\n",
      "  train2['발화'] = train2['발화'].str.replace(\"[^ㄱ-ㅎㅏ-ㅣ가-힣 ]\",\"\")\n"
     ]
    }
   ],
   "source": [
    "train1['발화'] = train1['발화'].str.replace(\"[^ㄱ-ㅎㅏ-ㅣ가-힣 ]\",\"\")\n",
    "train2['발화'] = train2['발화'].str.replace(\"[^ㄱ-ㅎㅏ-ㅣ가-힣 ]\",\"\")"
   ]
  },
  {
   "cell_type": "code",
   "execution_count": 9,
   "id": "731d5880",
   "metadata": {},
   "outputs": [
    {
     "name": "stderr",
     "output_type": "stream",
     "text": [
      "<ipython-input-9-4ae6611874fe>:1: FutureWarning: The default value of regex will change from True to False in a future version.\n",
      "  train1['발화'] = train1['발화'].str.replace('^ +', \"\")\n",
      "<ipython-input-9-4ae6611874fe>:1: SettingWithCopyWarning: \n",
      "A value is trying to be set on a copy of a slice from a DataFrame.\n",
      "Try using .loc[row_indexer,col_indexer] = value instead\n",
      "\n",
      "See the caveats in the documentation: https://pandas.pydata.org/pandas-docs/stable/user_guide/indexing.html#returning-a-view-versus-a-copy\n",
      "  train1['발화'] = train1['발화'].str.replace('^ +', \"\")\n"
     ]
    },
    {
     "name": "stdout",
     "output_type": "stream",
     "text": [
      "발화        4\n",
      "감정_int    0\n",
      "dtype: int64\n",
      "발화        6\n",
      "감정_int    0\n",
      "dtype: int64\n"
     ]
    },
    {
     "name": "stderr",
     "output_type": "stream",
     "text": [
      "<ipython-input-9-4ae6611874fe>:2: FutureWarning: The default value of regex will change from True to False in a future version.\n",
      "  train2['발화'] = train2['발화'].str.replace('^ +', \"\")\n",
      "<ipython-input-9-4ae6611874fe>:2: SettingWithCopyWarning: \n",
      "A value is trying to be set on a copy of a slice from a DataFrame.\n",
      "Try using .loc[row_indexer,col_indexer] = value instead\n",
      "\n",
      "See the caveats in the documentation: https://pandas.pydata.org/pandas-docs/stable/user_guide/indexing.html#returning-a-view-versus-a-copy\n",
      "  train2['발화'] = train2['발화'].str.replace('^ +', \"\")\n",
      "C:\\Users\\user\\.conda\\envs\\me\\lib\\site-packages\\pandas\\core\\series.py:4509: SettingWithCopyWarning: \n",
      "A value is trying to be set on a copy of a slice from a DataFrame\n",
      "\n",
      "See the caveats in the documentation: https://pandas.pydata.org/pandas-docs/stable/user_guide/indexing.html#returning-a-view-versus-a-copy\n",
      "  return super().replace(\n"
     ]
    }
   ],
   "source": [
    "train1['발화'] = train1['발화'].str.replace('^ +', \"\")\n",
    "train2['발화'] = train2['발화'].str.replace('^ +', \"\")\n",
    "train1['발화'].replace('', np.nan, inplace = True)\n",
    "train2['발화'].replace('', np.nan, inplace = True)\n",
    "print(train1.isnull().sum())\n",
    "print(train2.isnull().sum())"
   ]
  },
  {
   "cell_type": "code",
   "execution_count": 10,
   "id": "85973515",
   "metadata": {},
   "outputs": [],
   "source": [
    "train1.loc[train1.발화.isnull()][:10]\n",
    "train2.loc[train2.발화.isnull()][:10]\n",
    "train1 = train1.dropna()\n",
    "train2 = train2.dropna()"
   ]
  },
  {
   "cell_type": "code",
   "execution_count": 11,
   "id": "83ab7a8c",
   "metadata": {},
   "outputs": [
    {
     "data": {
      "text/plain": [
       "['오다', '이렇다', '것', '도', '영화', '라고', '차라리', '뮤직비디오', '를', '만들다', '게', '나다', '뻔']"
      ]
     },
     "execution_count": 11,
     "metadata": {},
     "output_type": "execute_result"
    }
   ],
   "source": [
    "stopwords = ['의','가','이','은','들','는','좀','잘','걍','과','도','를','으로','자','에','와','한','하다']\n",
    "okt = Okt()\n",
    "okt.morphs('와 이런 것도 영화라고 차라리 뮤직비디오를 만드는 게 나을 뻔', stem = True)"
   ]
  },
  {
   "cell_type": "code",
   "execution_count": 12,
   "id": "662e636d",
   "metadata": {},
   "outputs": [],
   "source": [
    "t_train1 = []\n",
    "t_train2 = []\n",
    "for sentence in train1['발화']:\n",
    "    temp_X = okt.morphs(sentence, stem=True) # 토큰화\n",
    "    temp_X = [word for word in temp_X if not word in stopwords] # 불용어 제거\n",
    "    t_train1.append(temp_X)\n",
    "    \n",
    "for sentence in train2['발화']:\n",
    "    temp_X = okt.morphs(sentence, stem=True) # 토큰화\n",
    "    temp_X = [word for word in temp_X if not word in stopwords] # 불용어 제거\n",
    "    t_train2.append(temp_X)"
   ]
  },
  {
   "cell_type": "code",
   "execution_count": 13,
   "id": "f77827c1",
   "metadata": {},
   "outputs": [
    {
     "name": "stderr",
     "output_type": "stream",
     "text": [
      "[nltk_data] Downloading package punkt to\n",
      "[nltk_data]     C:\\Users\\user\\AppData\\Roaming\\nltk_data...\n",
      "[nltk_data]   Package punkt is already up-to-date!\n",
      "[nltk_data] Downloading package treebank to\n",
      "[nltk_data]     C:\\Users\\user\\AppData\\Roaming\\nltk_data...\n",
      "[nltk_data]   Package treebank is already up-to-date!\n"
     ]
    }
   ],
   "source": [
    "import nltk\n",
    "nltk.download('punkt')\n",
    "nltk.download('treebank')\n",
    "\n",
    "from nltk.tokenize import word_tokenize\n",
    "from nltk.tokenize import WordPunctTokenizer\n",
    "from nltk.tokenize import TreebankWordTokenizer\n",
    "\n",
    "tb_tokenizer = TreebankWordTokenizer()"
   ]
  },
  {
   "cell_type": "code",
   "execution_count": 14,
   "id": "f0da4296",
   "metadata": {},
   "outputs": [],
   "source": [
    "tokenizer = Tokenizer()\n",
    "tokenizer.fit_on_texts(t_train1)\n",
    "tokenizer.fit_on_texts(t_train2)"
   ]
  },
  {
   "cell_type": "code",
   "execution_count": 15,
   "id": "b5222019",
   "metadata": {},
   "outputs": [
    {
     "name": "stdout",
     "output_type": "stream",
     "text": [
      "단어 집합(vocabulary)의 크기 : 28036\n",
      "등장 빈도가 2번 이하인 희귀 단어의 수: 15640\n",
      "단어 집합에서 희귀 단어의 비율: 55.78541874732487\n",
      "전체 등장 빈도에서 희귀 단어 등장 빈도 비율: 2.8476659049573287\n"
     ]
    }
   ],
   "source": [
    "threshold = 3\n",
    "total_cnt = len(tokenizer.word_index) # 단어의 수\n",
    "rare_cnt = 0 # 등장 빈도수가 threshold보다 작은 단어의 개수를 카운트\n",
    "total_freq = 0 # 훈련 데이터의 전체 단어 빈도수 총 합\n",
    "rare_freq = 0 # 등장 빈도수가 threshold보다 작은 단어의 등장 빈도수의 총 합\n",
    "\n",
    "# 단어와 빈도수의 쌍(pair)을 key와 value로 받는다.\n",
    "for key, value in tokenizer.word_counts.items():\n",
    "    total_freq = total_freq + value\n",
    "\n",
    "    # 단어의 등장 빈도수가 threshold보다 작으면\n",
    "    if(value < threshold):\n",
    "        rare_cnt = rare_cnt + 1\n",
    "        rare_freq = rare_freq + value\n",
    "\n",
    "print('단어 집합(vocabulary)의 크기 :',total_cnt)\n",
    "print('등장 빈도가 %s번 이하인 희귀 단어의 수: %s'%(threshold - 1, rare_cnt))\n",
    "print(\"단어 집합에서 희귀 단어의 비율:\", (rare_cnt / total_cnt)*100)\n",
    "print(\"전체 등장 빈도에서 희귀 단어 등장 빈도 비율:\", (rare_freq / total_freq)*100)"
   ]
  },
  {
   "cell_type": "code",
   "execution_count": 16,
   "id": "12ce8e49",
   "metadata": {},
   "outputs": [
    {
     "name": "stdout",
     "output_type": "stream",
     "text": [
      "단어 집합의 크기 : 12397\n"
     ]
    }
   ],
   "source": [
    "# 전체 단어 개수 중 빈도수 2이하인 단어는 제거.\n",
    "# 0번 패딩 토큰을 고려하여 + 1\n",
    "vocab_size = total_cnt - rare_cnt + 1\n",
    "print('단어 집합의 크기 :',vocab_size)"
   ]
  },
  {
   "cell_type": "code",
   "execution_count": 17,
   "id": "4c2e1ddc",
   "metadata": {},
   "outputs": [],
   "source": [
    "tokenizer = Tokenizer(vocab_size) \n",
    "tokenizer.fit_on_texts(t_train1)\n",
    "t_train11 = tokenizer.texts_to_sequences(t_train1)\n",
    "tokenizer.fit_on_texts(t_train2)\n",
    "t_train22 = tokenizer.texts_to_sequences(t_train2)"
   ]
  },
  {
   "cell_type": "code",
   "execution_count": 18,
   "id": "e0801dda",
   "metadata": {},
   "outputs": [],
   "source": [
    "emo1 = train1['감정_int']\n",
    "emo2 = train2['감정_int']"
   ]
  },
  {
   "cell_type": "code",
   "execution_count": 19,
   "id": "8b3a8e35",
   "metadata": {},
   "outputs": [
    {
     "name": "stdout",
     "output_type": "stream",
     "text": [
      "리뷰의 최대 길이 : 112\n",
      "리뷰의 평균 길이 : 7.454631913692157\n"
     ]
    },
    {
     "data": {
      "image/png": "[encoded data removed]",
      "text/plain": [
       "<Figure size 432x288 with 1 Axes>"
      ]
     },
     "metadata": {
      "needs_background": "light"
     },
     "output_type": "display_data"
    }
   ],
   "source": [
    "print('리뷰의 최대 길이 :',max(len(l) for l in t_train11))\n",
    "print('리뷰의 평균 길이 :',sum(map(len, t_train11))/len(t_train11))\n",
    "plt.hist([len(s) for s in t_train11], bins=50)\n",
    "plt.xlabel('length of samples')\n",
    "plt.ylabel('number of samples')\n",
    "plt.show()"
   ]
  },
  {
   "cell_type": "code",
   "execution_count": 20,
   "id": "24096af7",
   "metadata": {},
   "outputs": [],
   "source": [
    "def below_threshold_len(max_len, nested_list):\n",
    "  cnt = 0\n",
    "  for s in nested_list:\n",
    "    if(len(s) <= max_len):\n",
    "        cnt = cnt + 1\n",
    "  print('전체 샘플 중 길이가 %s 이하인 샘플의 비율: %s'%(max_len, (cnt / len(nested_list))*100))"
   ]
  },
  {
   "cell_type": "code",
   "execution_count": 21,
   "id": "c6f56d08",
   "metadata": {},
   "outputs": [
    {
     "name": "stdout",
     "output_type": "stream",
     "text": [
      "전체 샘플 중 길이가 20 이하인 샘플의 비율: 96.9506939697447\n"
     ]
    }
   ],
   "source": [
    "max_len = 20\n",
    "below_threshold_len(max_len, t_train11)"
   ]
  },
  {
   "cell_type": "code",
   "execution_count": 22,
   "id": "bb529723",
   "metadata": {},
   "outputs": [],
   "source": [
    "t_train111 = pad_sequences(t_train11, maxlen = max_len)\n",
    "t_train222 = pad_sequences(t_train22, maxlen = max_len)"
   ]
  },
  {
   "cell_type": "code",
   "execution_count": 23,
   "id": "601ce752",
   "metadata": {},
   "outputs": [],
   "source": [
    "from tensorflow.keras.layers import Embedding, Dense, LSTM\n",
    "from tensorflow.keras.models import Sequential\n",
    "from tensorflow.keras.models import load_model\n",
    "from tensorflow.keras.callbacks import EarlyStopping, ModelCheckpoint\n"
   ]
  },
  {
   "cell_type": "code",
   "execution_count": 24,
   "id": "514c5bb2",
   "metadata": {},
   "outputs": [
    {
     "name": "stdout",
     "output_type": "stream",
     "text": [
      "[1 3 4 ... 1 5 1]\n",
      "[1 1 5 ... 1 1 1]\n"
     ]
    }
   ],
   "source": [
    "from sklearn.preprocessing import LabelEncoder\n",
    "import tensorflow as tf\n",
    "enc = LabelEncoder()\n",
    "enc.fit(emo1)\n",
    "emo1_label = enc.transform(emo1)\n",
    "print(emo1_label)\n",
    "enc.fit(emo2)\n",
    "emo2_label = enc.transform(emo2)\n",
    "print(emo2_label)"
   ]
  },
  {
   "cell_type": "code",
   "execution_count": 25,
   "id": "e86867ef",
   "metadata": {},
   "outputs": [],
   "source": [
    "emo1_enc = tf.keras.utils.to_categorical(emo1_label)\n",
    "emo2_enc = tf.keras.utils.to_categorical(emo2_label)"
   ]
  },
  {
   "cell_type": "code",
   "execution_count": 26,
   "id": "8d4a8605",
   "metadata": {},
   "outputs": [
    {
     "data": {
      "text/plain": [
       "array([   0,    0,    0,    0,    0,  193,   23,   70, 4285,    3, 3814,\n",
       "          7, 1707, 1759,    3, 4285,  499,    4, 1577,  830])"
      ]
     },
     "execution_count": 26,
     "metadata": {},
     "output_type": "execute_result"
    }
   ],
   "source": [
    "t_train111[0]"
   ]
  },
  {
   "cell_type": "code",
   "execution_count": 27,
   "id": "55cb2925",
   "metadata": {},
   "outputs": [
    {
     "data": {
      "text/plain": [
       "(67294, 7)"
      ]
     },
     "execution_count": 27,
     "metadata": {},
     "output_type": "execute_result"
    }
   ],
   "source": [
    "emo1_enc.shape"
   ]
  },
  {
   "cell_type": "code",
   "execution_count": 28,
   "id": "f208d43c",
   "metadata": {},
   "outputs": [
    {
     "name": "stdout",
     "output_type": "stream",
     "text": [
      "Epoch 1/50\n",
      "673/673 [==============================] - 3s 3ms/step - loss: 1.7186 - accuracy: 0.5010\n",
      "Epoch 2/50\n",
      "673/673 [==============================] - 2s 2ms/step - loss: 1.5656 - accuracy: 0.5069\n",
      "Epoch 3/50\n",
      "673/673 [==============================] - 2s 2ms/step - loss: 1.5645 - accuracy: 0.5069\n",
      "Epoch 4/50\n",
      "673/673 [==============================] - 2s 2ms/step - loss: 1.5695 - accuracy: 0.5063\n",
      "Epoch 5/50\n",
      "673/673 [==============================] - 2s 2ms/step - loss: 1.5657 - accuracy: 0.5069\n",
      "Epoch 6/50\n",
      "673/673 [==============================] - 2s 2ms/step - loss: 1.5651 - accuracy: 0.5069\n",
      "Epoch 7/50\n",
      "673/673 [==============================] - 2s 2ms/step - loss: 1.5647 - accuracy: 0.5069\n",
      "Epoch 8/50\n",
      "673/673 [==============================] - 2s 2ms/step - loss: 1.5649 - accuracy: 0.5069\n",
      "Epoch 9/50\n",
      "673/673 [==============================] - 2s 2ms/step - loss: 1.5648 - accuracy: 0.5069\n",
      "Epoch 10/50\n",
      "673/673 [==============================] - 2s 2ms/step - loss: 1.5647 - accuracy: 0.5069\n",
      "Epoch 11/50\n",
      "673/673 [==============================] - 2s 2ms/step - loss: 1.5625 - accuracy: 0.5067\n",
      "Epoch 12/50\n",
      "673/673 [==============================] - 2s 2ms/step - loss: 1.5436 - accuracy: 0.5066\n",
      "Epoch 13/50\n",
      "673/673 [==============================] - 2s 2ms/step - loss: 1.5384 - accuracy: 0.5069\n",
      "Epoch 14/50\n",
      "673/673 [==============================] - 2s 2ms/step - loss: 1.5346 - accuracy: 0.5069\n",
      "Epoch 15/50\n",
      "673/673 [==============================] - 2s 2ms/step - loss: 1.5330 - accuracy: 0.5069\n",
      "Epoch 16/50\n",
      "673/673 [==============================] - 2s 2ms/step - loss: 1.5319 - accuracy: 0.5069\n",
      "Epoch 17/50\n",
      "673/673 [==============================] - 2s 2ms/step - loss: 1.5303 - accuracy: 0.5069\n",
      "Epoch 18/50\n",
      "673/673 [==============================] - 2s 2ms/step - loss: 1.5327 - accuracy: 0.5068\n",
      "Epoch 19/50\n",
      "673/673 [==============================] - 2s 2ms/step - loss: 1.5285 - accuracy: 0.5068\n",
      "Epoch 20/50\n",
      "673/673 [==============================] - 2s 2ms/step - loss: 1.5268 - accuracy: 0.5070\n",
      "Epoch 21/50\n",
      "673/673 [==============================] - 2s 2ms/step - loss: 1.5300 - accuracy: 0.5069\n",
      "Epoch 22/50\n",
      "673/673 [==============================] - 2s 2ms/step - loss: 1.5275 - accuracy: 0.5069\n",
      "Epoch 23/50\n",
      "673/673 [==============================] - 2s 2ms/step - loss: 1.5249 - accuracy: 0.5069\n",
      "Epoch 24/50\n",
      "673/673 [==============================] - 2s 2ms/step - loss: 1.5236 - accuracy: 0.5069\n",
      "Epoch 25/50\n",
      "673/673 [==============================] - 2s 2ms/step - loss: 1.5233 - accuracy: 0.5068\n",
      "Epoch 26/50\n",
      "673/673 [==============================] - 2s 2ms/step - loss: 1.5208 - accuracy: 0.5068\n",
      "Epoch 27/50\n",
      "673/673 [==============================] - 2s 2ms/step - loss: 1.5201 - accuracy: 0.5069\n",
      "Epoch 28/50\n",
      "673/673 [==============================] - 2s 2ms/step - loss: 1.5183 - accuracy: 0.5069\n",
      "Epoch 29/50\n",
      "673/673 [==============================] - 2s 2ms/step - loss: 1.5179 - accuracy: 0.5069\n",
      "Epoch 30/50\n",
      "673/673 [==============================] - 2s 2ms/step - loss: 1.5200 - accuracy: 0.5068\n",
      "Epoch 31/50\n",
      "673/673 [==============================] - 2s 2ms/step - loss: 1.5177 - accuracy: 0.5069: 0s - loss: 1.5183 - accu\n",
      "Epoch 32/50\n",
      "673/673 [==============================] - 2s 2ms/step - loss: 1.5157 - accuracy: 0.5068\n",
      "Epoch 33/50\n",
      "673/673 [==============================] - 2s 2ms/step - loss: 1.5139 - accuracy: 0.5068\n",
      "Epoch 34/50\n",
      "673/673 [==============================] - 2s 2ms/step - loss: 1.5136 - accuracy: 0.5067\n",
      "Epoch 35/50\n",
      "673/673 [==============================] - 2s 2ms/step - loss: 1.5128 - accuracy: 0.5069\n",
      "Epoch 36/50\n",
      "673/673 [==============================] - 2s 2ms/step - loss: 1.5156 - accuracy: 0.5068\n",
      "Epoch 37/50\n",
      "673/673 [==============================] - 2s 2ms/step - loss: 1.5125 - accuracy: 0.5069\n",
      "Epoch 38/50\n",
      "673/673 [==============================] - 2s 2ms/step - loss: 1.5108 - accuracy: 0.5070\n",
      "Epoch 39/50\n",
      "673/673 [==============================] - 2s 2ms/step - loss: 1.5089 - accuracy: 0.5070\n",
      "Epoch 40/50\n",
      "673/673 [==============================] - 2s 2ms/step - loss: 1.5120 - accuracy: 0.5068\n",
      "Epoch 41/50\n",
      "673/673 [==============================] - 2s 2ms/step - loss: 1.5097 - accuracy: 0.5069\n",
      "Epoch 42/50\n",
      "673/673 [==============================] - 2s 2ms/step - loss: 1.5068 - accuracy: 0.5071\n",
      "Epoch 43/50\n",
      "673/673 [==============================] - 2s 2ms/step - loss: 1.5046 - accuracy: 0.5074\n",
      "Epoch 44/50\n",
      "673/673 [==============================] - 2s 2ms/step - loss: 1.5036 - accuracy: 0.5074\n",
      "Epoch 45/50\n",
      "673/673 [==============================] - 2s 2ms/step - loss: 1.5033 - accuracy: 0.5076\n",
      "Epoch 46/50\n",
      "673/673 [==============================] - 2s 2ms/step - loss: 1.5004 - accuracy: 0.5079\n",
      "Epoch 47/50\n",
      "673/673 [==============================] - 2s 2ms/step - loss: 1.4995 - accuracy: 0.5083\n",
      "Epoch 48/50\n",
      "673/673 [==============================] - 2s 2ms/step - loss: 1.4967 - accuracy: 0.5086\n",
      "Epoch 49/50\n",
      "673/673 [==============================] - 2s 2ms/step - loss: 1.4949 - accuracy: 0.5088\n",
      "Epoch 50/50\n",
      "673/673 [==============================] - 2s 2ms/step - loss: 1.4936 - accuracy: 0.5091\n",
      "2103/2103 [==============================] - 2s 895us/step - loss: 1.4878 - accuracy: 0.5101\n",
      "[1.4878100156784058, 0.5101048946380615]\n"
     ]
    }
   ],
   "source": [
    "from tensorflow.keras.models import Sequential\n",
    "from tensorflow.keras.layers import Dense\n",
    "model = Sequential()\n",
    "model.add(Dense(256,  activation = 'relu'))\n",
    "model.add(Dense(128,  activation = 'relu'))\n",
    "model.add(Dense(64,  activation = 'relu'))\n",
    "model.add(Dense(32,  activation = 'relu'))\n",
    "model.add(Dense(16,  activation = 'relu'))\n",
    "model.add(Dense(32,  activation = 'relu'))\n",
    "model.add(Dense(64, activation='relu'))\n",
    "model.add(Dense(128, activation='relu'))\n",
    "model.add(Dense(256, activation='relu'))\n",
    "model.add(Dense(128, activation='relu'))\n",
    "model.add(Dense(64, activation='relu'))\n",
    "model.add(Dense(32, activation='relu'))\n",
    "model.add(Dense(7,activation = 'softmax'))\n",
    "    \n",
    "model.compile(loss = 'categorical_crossentropy', optimizer = 'adam', metrics=['accuracy'])\n",
    "model.fit(t_train111, emo1_enc, epochs=50, batch_size = 100)\n",
    "\n",
    "print(model.evaluate(t_train111,emo1_enc))"
   ]
  },
  {
   "cell_type": "markdown",
   "id": "227083de",
   "metadata": {},
   "source": [
    "model = Sequential()\n",
    "model.add(Embedding(vocab_size, 100))\n",
    "model.add(LSTM(128))\n",
    "model.add(Dense(512, activation='relu'))\n",
    "model.add(Dense(256, activation='relu'))\n",
    "model.add(Dense(128, activation='relu'))\n",
    "model.add(Dense(64, activation='relu'))\n",
    "model.add(Dense(32, activation='relu'))\n",
    "model.add(Dense(64, activation='relu'))\n",
    "model.add(Dense(128, activation='relu'))\n",
    "model.add(Dense(256, activation='relu'))\n",
    "model.add(Dense(128, activation='relu'))\n",
    "model.add(Dense(64, activation='relu'))\n",
    "model.add(Dense(32, activation='relu'))\n",
    "model.add(Dense(7,activation = 'softmax'))"
   ]
  },
  {
   "cell_type": "code",
   "execution_count": 30,
   "id": "d42369cd",
   "metadata": {},
   "outputs": [],
   "source": [
    "es = EarlyStopping(monitor='val_loss', mode='min', verbose=1, patience=4)\n",
    "mc = ModelCheckpoint('best_model.h5', monitor='val_acc', mode='max', verbose=1, save_best_only=True)"
   ]
  },
  {
   "cell_type": "code",
   "execution_count": 31,
   "id": "5dd6e889",
   "metadata": {},
   "outputs": [
    {
     "name": "stdout",
     "output_type": "stream",
     "text": [
      "Epoch 1/15\n",
      "898/898 [==============================] - 34s 33ms/step - loss: 0.3243 - acc: 0.5102 - val_loss: 0.3063 - val_acc: 0.5274\n",
      "\n",
      "Epoch 00001: val_acc improved from -inf to 0.52738, saving model to best_model.h5\n",
      "Epoch 2/15\n",
      "898/898 [==============================] - 29s 32ms/step - loss: 0.2852 - acc: 0.5671 - val_loss: 0.2890 - val_acc: 0.5723\n",
      "\n",
      "Epoch 00002: val_acc improved from 0.52738 to 0.57233, saving model to best_model.h5\n",
      "Epoch 3/15\n",
      "898/898 [==============================] - 29s 32ms/step - loss: 0.2591 - acc: 0.6033 - val_loss: 0.2862 - val_acc: 0.5798\n",
      "\n",
      "Epoch 00003: val_acc improved from 0.57233 to 0.57984, saving model to best_model.h5\n",
      "Epoch 4/15\n",
      "898/898 [==============================] - 29s 32ms/step - loss: 0.2368 - acc: 0.6380 - val_loss: 0.2999 - val_acc: 0.5729\n",
      "\n",
      "Epoch 00004: val_acc did not improve from 0.57984\n",
      "Epoch 5/15\n",
      "898/898 [==============================] - 30s 34ms/step - loss: 0.2199 - acc: 0.6660 - val_loss: 0.3112 - val_acc: 0.5732\n",
      "\n",
      "Epoch 00005: val_acc did not improve from 0.57984\n",
      "Epoch 6/15\n",
      "898/898 [==============================] - 29s 33ms/step - loss: 0.2064 - acc: 0.6905 - val_loss: 0.3244 - val_acc: 0.5471\n",
      "\n",
      "Epoch 00006: val_acc did not improve from 0.57984\n",
      "Epoch 7/15\n",
      "898/898 [==============================] - 30s 33ms/step - loss: 0.1923 - acc: 0.7219 - val_loss: 0.3338 - val_acc: 0.5633\n",
      "\n",
      "Epoch 00007: val_acc did not improve from 0.57984\n",
      "Epoch 00007: early stopping\n"
     ]
    }
   ],
   "source": [
    "model.compile(optimizer='adam', loss='binary_crossentropy', metrics=['acc'])\n",
    "history = model.fit(t_train111, emo1_enc, epochs=15, callbacks=[es, mc], batch_size=60, validation_split=0.2)"
   ]
  },
  {
   "cell_type": "code",
   "execution_count": 32,
   "id": "9b251d93",
   "metadata": {},
   "outputs": [
    {
     "name": "stdout",
     "output_type": "stream",
     "text": [
      "701/701 [==============================] - 4s 5ms/step - loss: 0.3884 - acc: 0.4610\n",
      "\n",
      " 테스트 정확도: 0.4610\n"
     ]
    }
   ],
   "source": [
    "loaded_model = load_model('best_model.h5')\n",
    "print(\"\\n 테스트 정확도: %.4f\" % (loaded_model.evaluate(t_train222, emo2_enc)[1]))"
   ]
  },
  {
   "cell_type": "code",
   "execution_count": 33,
   "id": "0fad67a9",
   "metadata": {},
   "outputs": [],
   "source": [
    "def sentiment_predict(new_sentence):\n",
    "    new_sentence = okt.morphs(new_sentence, stem=True) # 토큰화\n",
    "    new_sentence = [word for word in new_sentence if not word in stopwords] # 불용어 제거\n",
    "    encoded = tokenizer.texts_to_sequences([new_sentence]) # 정수 인코딩\n",
    "    pad_new = pad_sequences(encoded, maxlen = max_len) # 패딩\n",
    "    print(pad_new)\n",
    "    pred = loaded_model.predict(pad_new)\n",
    "    print(np.argmax(pred))"
   ]
  },
  {
   "cell_type": "code",
   "execution_count": 39,
   "id": "fc49eaff",
   "metadata": {},
   "outputs": [
    {
     "name": "stdout",
     "output_type": "stream",
     "text": [
      "1:행복, 2:중립, 3:슬픔, 4:공포, 5:혐오, 6:분노, 7:놀람.\n",
      "\n",
      "[[   0    0    0    0    0    0    0    0    0    0    0    0    0    0\n",
      "     0    0    0   40 4646   66]]\n",
      "1\n"
     ]
    }
   ],
   "source": [
    "print('1:행복, 2:중립, 3:슬픔, 4:공포, 5:혐오, 6:분노, 7:놀람.\\n')\n",
    "sentiment_predict('먹는데 머리카락 나왔어')\n"
   ]
  },
  {
   "cell_type": "code",
   "execution_count": 35,
   "id": "a61c17f9",
   "metadata": {},
   "outputs": [
    {
     "name": "stdout",
     "output_type": "stream",
     "text": [
      "['대통령', '짓', '보다', '덜', '위험하다']\n",
      "[   0    0    0    0    0    0    0    0    0    0    0    0    0    0\n",
      "    0  251  395    4 1500  865]\n",
      "4\n"
     ]
    }
   ],
   "source": [
    "print(t_train1[3731])\n",
    "print(t_train111[3731])\n",
    "print(emo1[3731])"
   ]
  },
  {
   "cell_type": "code",
   "execution_count": null,
   "id": "ac54d5c4",
   "metadata": {},
   "outputs": [],
   "source": []
  }
 ],
 "metadata": {
  "kernelspec": {
   "display_name": "Python 3",
   "language": "python",
   "name": "python3"
  },
  "language_info": {
   "codemirror_mode": {
    "name": "ipython",
    "version": 3
   },
   "file_extension": ".py",
   "mimetype": "text/x-python",
   "name": "python",
   "nbconvert_exporter": "python",
   "pygments_lexer": "ipython3",
   "version": "3.8.10"
  }
 },
 "nbformat": 4,
 "nbformat_minor": 5
}
