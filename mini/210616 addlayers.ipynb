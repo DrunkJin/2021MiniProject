{
 "cells": [
  {
   "cell_type": "markdown",
   "id": "4f3f0d7b",
   "metadata": {},
   "source": [
    "1. 계통추출(test set 추출)  \n",
    "2. 3번 이하, 4번이하 빈도수 단어들로 구분지어 실행해보기 → 단어 몇 개 정도 남길건지 결정\n",
    "ex. 5000개 가지고 train 했을 경우의 정확도"
   ]
  },
  {
   "cell_type": "code",
   "execution_count": 6,
   "id": "67793a7e",
   "metadata": {},
   "outputs": [],
   "source": [
    "import pandas as pd\n",
    "import numpy as np\n",
    "%matplotlib inline\n",
    "import matplotlib.pyplot as plt\n",
    "import re\n",
    "import urllib.request\n",
    "from konlpy.tag import Okt\n",
    "from tensorflow.keras.preprocessing.text import Tokenizer\n",
    "from tensorflow.keras.preprocessing.sequence import pad_sequences\n",
    "from collections import Counter\n",
    "from sklearn.model_selection import train_test_split"
   ]
  },
  {
   "cell_type": "code",
   "execution_count": 7,
   "id": "8588291d",
   "metadata": {},
   "outputs": [
    {
     "data": {
      "text/html": [
       "<div>\n",
       "<style scoped>\n",
       "    .dataframe tbody tr th:only-of-type {\n",
       "        vertical-align: middle;\n",
       "    }\n",
       "\n",
       "    .dataframe tbody tr th {\n",
       "        vertical-align: top;\n",
       "    }\n",
       "\n",
       "    .dataframe thead th {\n",
       "        text-align: right;\n",
       "    }\n",
       "</style>\n",
       "<table border=\"1\" class=\"dataframe\">\n",
       "  <thead>\n",
       "    <tr style=\"text-align: right;\">\n",
       "      <th></th>\n",
       "      <th>발화</th>\n",
       "      <th>감정_int</th>\n",
       "    </tr>\n",
       "  </thead>\n",
       "  <tbody>\n",
       "    <tr>\n",
       "      <th>0</th>\n",
       "      <td>언니 동생으로 부르는게 맞는 일인가요..??</td>\n",
       "      <td>0</td>\n",
       "    </tr>\n",
       "    <tr>\n",
       "      <th>1</th>\n",
       "      <td>그냥 내 느낌일뿐겠지?</td>\n",
       "      <td>0</td>\n",
       "    </tr>\n",
       "    <tr>\n",
       "      <th>2</th>\n",
       "      <td>아직너무초기라서 그런거죠?</td>\n",
       "      <td>0</td>\n",
       "    </tr>\n",
       "    <tr>\n",
       "      <th>3</th>\n",
       "      <td>유치원버스 사고 낫다던데</td>\n",
       "      <td>0</td>\n",
       "    </tr>\n",
       "    <tr>\n",
       "      <th>4</th>\n",
       "      <td>근데 원래이런거맞나요</td>\n",
       "      <td>0</td>\n",
       "    </tr>\n",
       "    <tr>\n",
       "      <th>...</th>\n",
       "      <td>...</td>\n",
       "      <td>...</td>\n",
       "    </tr>\n",
       "    <tr>\n",
       "      <th>14129</th>\n",
       "      <td>봐봐, 이거 너무 복실복실하지?</td>\n",
       "      <td>1</td>\n",
       "    </tr>\n",
       "    <tr>\n",
       "      <th>14130</th>\n",
       "      <td>하긴 남자애니까. 별로 관심 없으려나? 그래도 여기 남성 의류 말야, 평판이 꽤 좋...</td>\n",
       "      <td>1</td>\n",
       "    </tr>\n",
       "    <tr>\n",
       "      <th>14131</th>\n",
       "      <td>이럴 땐 진짜 질색하는 표정이 된다니깐. 감탄스럽기까지 해.</td>\n",
       "      <td>1</td>\n",
       "    </tr>\n",
       "    <tr>\n",
       "      <th>14132</th>\n",
       "      <td>너무 대놓고 그러면 역효과잖니? 난 지금 이대로면 충분한걸. ……하긴, 옛날엔 페어...</td>\n",
       "      <td>1</td>\n",
       "    </tr>\n",
       "    <tr>\n",
       "      <th>14133</th>\n",
       "      <td>고맙긴요. 제가 할 수 있는 건 이 정도가 전부인걸요. 선배님, 부디 힘내세요.</td>\n",
       "      <td>1</td>\n",
       "    </tr>\n",
       "  </tbody>\n",
       "</table>\n",
       "<p>14134 rows × 2 columns</p>\n",
       "</div>"
      ],
      "text/plain": [
       "                                                      발화  감정_int\n",
       "0                               언니 동생으로 부르는게 맞는 일인가요..??       0\n",
       "1                                           그냥 내 느낌일뿐겠지?       0\n",
       "2                                         아직너무초기라서 그런거죠?       0\n",
       "3                                          유치원버스 사고 낫다던데       0\n",
       "4                                            근데 원래이런거맞나요       0\n",
       "...                                                  ...     ...\n",
       "14129                                  봐봐, 이거 너무 복실복실하지?       1\n",
       "14130  하긴 남자애니까. 별로 관심 없으려나? 그래도 여기 남성 의류 말야, 평판이 꽤 좋...       1\n",
       "14131                  이럴 땐 진짜 질색하는 표정이 된다니깐. 감탄스럽기까지 해.       1\n",
       "14132  너무 대놓고 그러면 역효과잖니? 난 지금 이대로면 충분한걸. ……하긴, 옛날엔 페어...       1\n",
       "14133       고맙긴요. 제가 할 수 있는 건 이 정도가 전부인걸요. 선배님, 부디 힘내세요.       1\n",
       "\n",
       "[14134 rows x 2 columns]"
      ]
     },
     "execution_count": 7,
     "metadata": {},
     "output_type": "execute_result"
    }
   ],
   "source": [
    "data = pd.read_csv('DS01.csv')\n",
    "data"
   ]
  },
  {
   "cell_type": "code",
   "execution_count": 8,
   "id": "1f6aae3b",
   "metadata": {},
   "outputs": [
    {
     "data": {
      "text/plain": [
       "(14075, 2)"
      ]
     },
     "execution_count": 8,
     "metadata": {},
     "output_type": "execute_result"
    }
   ],
   "source": [
    " data['발화'].nunique(), data['감정_int'].nunique()"
   ]
  },
  {
   "cell_type": "code",
   "execution_count": 9,
   "id": "0c0b15a2",
   "metadata": {},
   "outputs": [
    {
     "data": {
      "text/plain": [
       "발화        0\n",
       "감정_int    0\n",
       "dtype: int64"
      ]
     },
     "execution_count": 9,
     "metadata": {},
     "output_type": "execute_result"
    }
   ],
   "source": [
    "data.isnull().sum()"
   ]
  },
  {
   "cell_type": "code",
   "execution_count": 10,
   "id": "b038f7fc",
   "metadata": {
    "scrolled": true
   },
   "outputs": [
    {
     "data": {
      "text/html": [
       "<div>\n",
       "<style scoped>\n",
       "    .dataframe tbody tr th:only-of-type {\n",
       "        vertical-align: middle;\n",
       "    }\n",
       "\n",
       "    .dataframe tbody tr th {\n",
       "        vertical-align: top;\n",
       "    }\n",
       "\n",
       "    .dataframe thead th {\n",
       "        text-align: right;\n",
       "    }\n",
       "</style>\n",
       "<table border=\"1\" class=\"dataframe\">\n",
       "  <thead>\n",
       "    <tr style=\"text-align: right;\">\n",
       "      <th></th>\n",
       "      <th>발화</th>\n",
       "      <th>감정_int</th>\n",
       "    </tr>\n",
       "  </thead>\n",
       "  <tbody>\n",
       "    <tr>\n",
       "      <th>0</th>\n",
       "      <td>언니 동생으로 부르는게 맞는 일인가요..??</td>\n",
       "      <td>0</td>\n",
       "    </tr>\n",
       "    <tr>\n",
       "      <th>1</th>\n",
       "      <td>그냥 내 느낌일뿐겠지?</td>\n",
       "      <td>0</td>\n",
       "    </tr>\n",
       "    <tr>\n",
       "      <th>2</th>\n",
       "      <td>아직너무초기라서 그런거죠?</td>\n",
       "      <td>0</td>\n",
       "    </tr>\n",
       "    <tr>\n",
       "      <th>3</th>\n",
       "      <td>유치원버스 사고 낫다던데</td>\n",
       "      <td>0</td>\n",
       "    </tr>\n",
       "    <tr>\n",
       "      <th>4</th>\n",
       "      <td>근데 원래이런거맞나요</td>\n",
       "      <td>0</td>\n",
       "    </tr>\n",
       "    <tr>\n",
       "      <th>...</th>\n",
       "      <td>...</td>\n",
       "      <td>...</td>\n",
       "    </tr>\n",
       "    <tr>\n",
       "      <th>14129</th>\n",
       "      <td>봐봐, 이거 너무 복실복실하지?</td>\n",
       "      <td>1</td>\n",
       "    </tr>\n",
       "    <tr>\n",
       "      <th>14130</th>\n",
       "      <td>하긴 남자애니까. 별로 관심 없으려나? 그래도 여기 남성 의류 말야, 평판이 꽤 좋...</td>\n",
       "      <td>1</td>\n",
       "    </tr>\n",
       "    <tr>\n",
       "      <th>14131</th>\n",
       "      <td>이럴 땐 진짜 질색하는 표정이 된다니깐. 감탄스럽기까지 해.</td>\n",
       "      <td>1</td>\n",
       "    </tr>\n",
       "    <tr>\n",
       "      <th>14132</th>\n",
       "      <td>너무 대놓고 그러면 역효과잖니? 난 지금 이대로면 충분한걸. ……하긴, 옛날엔 페어...</td>\n",
       "      <td>1</td>\n",
       "    </tr>\n",
       "    <tr>\n",
       "      <th>14133</th>\n",
       "      <td>고맙긴요. 제가 할 수 있는 건 이 정도가 전부인걸요. 선배님, 부디 힘내세요.</td>\n",
       "      <td>1</td>\n",
       "    </tr>\n",
       "  </tbody>\n",
       "</table>\n",
       "<p>14075 rows × 2 columns</p>\n",
       "</div>"
      ],
      "text/plain": [
       "                                                      발화  감정_int\n",
       "0                               언니 동생으로 부르는게 맞는 일인가요..??       0\n",
       "1                                           그냥 내 느낌일뿐겠지?       0\n",
       "2                                         아직너무초기라서 그런거죠?       0\n",
       "3                                          유치원버스 사고 낫다던데       0\n",
       "4                                            근데 원래이런거맞나요       0\n",
       "...                                                  ...     ...\n",
       "14129                                  봐봐, 이거 너무 복실복실하지?       1\n",
       "14130  하긴 남자애니까. 별로 관심 없으려나? 그래도 여기 남성 의류 말야, 평판이 꽤 좋...       1\n",
       "14131                  이럴 땐 진짜 질색하는 표정이 된다니깐. 감탄스럽기까지 해.       1\n",
       "14132  너무 대놓고 그러면 역효과잖니? 난 지금 이대로면 충분한걸. ……하긴, 옛날엔 페어...       1\n",
       "14133       고맙긴요. 제가 할 수 있는 건 이 정도가 전부인걸요. 선배님, 부디 힘내세요.       1\n",
       "\n",
       "[14075 rows x 2 columns]"
      ]
     },
     "execution_count": 10,
     "metadata": {},
     "output_type": "execute_result"
    }
   ],
   "source": [
    "data.drop_duplicates(subset = [\"발화\"], inplace = True)\n",
    "data"
   ]
  },
  {
   "cell_type": "code",
   "execution_count": 11,
   "id": "8c0de2f5",
   "metadata": {},
   "outputs": [
    {
     "data": {
      "text/plain": [
       "('ratings_total.txt', <http.client.HTTPMessage at 0x18cb0c5d910>)"
      ]
     },
     "execution_count": 11,
     "metadata": {},
     "output_type": "execute_result"
    }
   ],
   "source": [
    "urllib.request.urlretrieve(\"https://raw.githubusercontent.com/bab2min/corpus/master/sentiment/naver_shopping.txt\", filename=\"ratings_total.txt\")"
   ]
  },
  {
   "cell_type": "code",
   "execution_count": 12,
   "id": "7cfa152d",
   "metadata": {},
   "outputs": [
    {
     "name": "stdout",
     "output_type": "stream",
     "text": [
      "전체 리뷰 개수 : 200000\n"
     ]
    }
   ],
   "source": [
    "total_data = pd.read_table('ratings_total.txt', names=['ratings', '발화'])\n",
    "print('전체 리뷰 개수 :',len(total_data)) # 전체 리뷰 개수 출력"
   ]
  },
  {
   "cell_type": "code",
   "execution_count": 13,
   "id": "2a8c4db1",
   "metadata": {},
   "outputs": [
    {
     "data": {
      "text/html": [
       "<div>\n",
       "<style scoped>\n",
       "    .dataframe tbody tr th:only-of-type {\n",
       "        vertical-align: middle;\n",
       "    }\n",
       "\n",
       "    .dataframe tbody tr th {\n",
       "        vertical-align: top;\n",
       "    }\n",
       "\n",
       "    .dataframe thead th {\n",
       "        text-align: right;\n",
       "    }\n",
       "</style>\n",
       "<table border=\"1\" class=\"dataframe\">\n",
       "  <thead>\n",
       "    <tr style=\"text-align: right;\">\n",
       "      <th></th>\n",
       "      <th>ratings</th>\n",
       "      <th>발화</th>\n",
       "      <th>감정_int</th>\n",
       "    </tr>\n",
       "  </thead>\n",
       "  <tbody>\n",
       "    <tr>\n",
       "      <th>4000</th>\n",
       "      <td>5</td>\n",
       "      <td>스타일이좋은것같아요😁👍</td>\n",
       "      <td>1</td>\n",
       "    </tr>\n",
       "    <tr>\n",
       "      <th>4001</th>\n",
       "      <td>2</td>\n",
       "      <td>싸구려같아요...... 한번을 못차고 끈어져버림..</td>\n",
       "      <td>0</td>\n",
       "    </tr>\n",
       "    <tr>\n",
       "      <th>4002</th>\n",
       "      <td>2</td>\n",
       "      <td>해외에 있어서 한국 나간김에 주문해서 가지고 왔는데 원했던 맛이 아니에요. 작년에 ...</td>\n",
       "      <td>0</td>\n",
       "    </tr>\n",
       "    <tr>\n",
       "      <th>4003</th>\n",
       "      <td>5</td>\n",
       "      <td>향도 좋고 모양도 예뻐요.</td>\n",
       "      <td>1</td>\n",
       "    </tr>\n",
       "    <tr>\n",
       "      <th>4004</th>\n",
       "      <td>1</td>\n",
       "      <td>다시는 네이버에서 과일은 사지않을듯</td>\n",
       "      <td>0</td>\n",
       "    </tr>\n",
       "  </tbody>\n",
       "</table>\n",
       "</div>"
      ],
      "text/plain": [
       "      ratings                                                 발화  감정_int\n",
       "4000        5                                       스타일이좋은것같아요😁👍       1\n",
       "4001        2                       싸구려같아요...... 한번을 못차고 끈어져버림..       0\n",
       "4002        2  해외에 있어서 한국 나간김에 주문해서 가지고 왔는데 원했던 맛이 아니에요. 작년에 ...       0\n",
       "4003        5                                     향도 좋고 모양도 예뻐요.       1\n",
       "4004        1                                다시는 네이버에서 과일은 사지않을듯       0"
      ]
     },
     "execution_count": 13,
     "metadata": {},
     "output_type": "execute_result"
    }
   ],
   "source": [
    "total_data['감정_int'] = np.select([total_data.ratings > 3], [1], default=0)\n",
    "total_data[4000:4005]"
   ]
  },
  {
   "cell_type": "code",
   "execution_count": 14,
   "id": "19d874cb",
   "metadata": {},
   "outputs": [
    {
     "data": {
      "text/plain": [
       "(4, 199908, 2)"
      ]
     },
     "execution_count": 14,
     "metadata": {},
     "output_type": "execute_result"
    }
   ],
   "source": [
    "total_data['ratings'].nunique(), total_data['발화'].nunique(), total_data['감정_int'].nunique()"
   ]
  },
  {
   "cell_type": "code",
   "execution_count": 15,
   "id": "3e4c2a91",
   "metadata": {},
   "outputs": [
    {
     "name": "stdout",
     "output_type": "stream",
     "text": [
      "총 샘플의 수 : 199908\n"
     ]
    }
   ],
   "source": [
    "total_data.drop_duplicates(subset=['발화'], inplace=True) # reviews 열에서 중복인 내용이 있다면 중복 제거\n",
    "print('총 샘플의 수 :',len(total_data))"
   ]
  },
  {
   "cell_type": "code",
   "execution_count": 16,
   "id": "732c1ace",
   "metadata": {},
   "outputs": [
    {
     "name": "stdout",
     "output_type": "stream",
     "text": [
      "False\n"
     ]
    }
   ],
   "source": [
    "print(total_data.isnull().values.any())"
   ]
  },
  {
   "cell_type": "code",
   "execution_count": 17,
   "id": "340bdaa7",
   "metadata": {},
   "outputs": [],
   "source": [
    "total_data = total_data.drop(['ratings'], axis = 1)"
   ]
  },
  {
   "cell_type": "code",
   "execution_count": 18,
   "id": "9ebe9653",
   "metadata": {},
   "outputs": [
    {
     "data": {
      "text/html": [
       "<div>\n",
       "<style scoped>\n",
       "    .dataframe tbody tr th:only-of-type {\n",
       "        vertical-align: middle;\n",
       "    }\n",
       "\n",
       "    .dataframe tbody tr th {\n",
       "        vertical-align: top;\n",
       "    }\n",
       "\n",
       "    .dataframe thead th {\n",
       "        text-align: right;\n",
       "    }\n",
       "</style>\n",
       "<table border=\"1\" class=\"dataframe\">\n",
       "  <thead>\n",
       "    <tr style=\"text-align: right;\">\n",
       "      <th></th>\n",
       "      <th>발화</th>\n",
       "      <th>감정_int</th>\n",
       "    </tr>\n",
       "  </thead>\n",
       "  <tbody>\n",
       "    <tr>\n",
       "      <th>0</th>\n",
       "      <td>배공빠르고 굿</td>\n",
       "      <td>1</td>\n",
       "    </tr>\n",
       "    <tr>\n",
       "      <th>1</th>\n",
       "      <td>택배가 엉망이네용 저희집 밑에층에 말도없이 놔두고가고</td>\n",
       "      <td>0</td>\n",
       "    </tr>\n",
       "    <tr>\n",
       "      <th>2</th>\n",
       "      <td>아주좋아요 바지 정말 좋아서2개 더 구매했어요 이가격에 대박입니다. 바느질이 조금 ...</td>\n",
       "      <td>1</td>\n",
       "    </tr>\n",
       "    <tr>\n",
       "      <th>3</th>\n",
       "      <td>선물용으로 빨리 받아서 전달했어야 하는 상품이었는데 머그컵만 와서 당황했습니다. 전...</td>\n",
       "      <td>0</td>\n",
       "    </tr>\n",
       "    <tr>\n",
       "      <th>4</th>\n",
       "      <td>민트색상 예뻐요. 옆 손잡이는 거는 용도로도 사용되네요 ㅎㅎ</td>\n",
       "      <td>1</td>\n",
       "    </tr>\n",
       "    <tr>\n",
       "      <th>...</th>\n",
       "      <td>...</td>\n",
       "      <td>...</td>\n",
       "    </tr>\n",
       "    <tr>\n",
       "      <th>199995</th>\n",
       "      <td>장마라그런가!!! 달지않아요</td>\n",
       "      <td>0</td>\n",
       "    </tr>\n",
       "    <tr>\n",
       "      <th>199996</th>\n",
       "      <td>다이슨 케이스 구매했어요 다이슨 슈퍼소닉 드라이기 케이스 구매했어요가격 괜찮고 배송...</td>\n",
       "      <td>1</td>\n",
       "    </tr>\n",
       "    <tr>\n",
       "      <th>199997</th>\n",
       "      <td>로드샾에서 사는것보다 세배 저렴하네요 ㅜㅜ 자주이용할께요</td>\n",
       "      <td>1</td>\n",
       "    </tr>\n",
       "    <tr>\n",
       "      <th>199998</th>\n",
       "      <td>넘이쁘고 쎄련되보이네요~</td>\n",
       "      <td>1</td>\n",
       "    </tr>\n",
       "    <tr>\n",
       "      <th>199999</th>\n",
       "      <td>아직 사용해보지도않았고 다른 제품을 써본적이없어서 잘 모르겠지만 ㅎㅎ 배송은 빨랐습니다</td>\n",
       "      <td>1</td>\n",
       "    </tr>\n",
       "  </tbody>\n",
       "</table>\n",
       "<p>199908 rows × 2 columns</p>\n",
       "</div>"
      ],
      "text/plain": [
       "                                                       발화  감정_int\n",
       "0                                                 배공빠르고 굿       1\n",
       "1                           택배가 엉망이네용 저희집 밑에층에 말도없이 놔두고가고       0\n",
       "2       아주좋아요 바지 정말 좋아서2개 더 구매했어요 이가격에 대박입니다. 바느질이 조금 ...       1\n",
       "3       선물용으로 빨리 받아서 전달했어야 하는 상품이었는데 머그컵만 와서 당황했습니다. 전...       0\n",
       "4                       민트색상 예뻐요. 옆 손잡이는 거는 용도로도 사용되네요 ㅎㅎ       1\n",
       "...                                                   ...     ...\n",
       "199995                                    장마라그런가!!! 달지않아요       0\n",
       "199996  다이슨 케이스 구매했어요 다이슨 슈퍼소닉 드라이기 케이스 구매했어요가격 괜찮고 배송...       1\n",
       "199997                    로드샾에서 사는것보다 세배 저렴하네요 ㅜㅜ 자주이용할께요       1\n",
       "199998                                      넘이쁘고 쎄련되보이네요~       1\n",
       "199999   아직 사용해보지도않았고 다른 제품을 써본적이없어서 잘 모르겠지만 ㅎㅎ 배송은 빨랐습니다       1\n",
       "\n",
       "[199908 rows x 2 columns]"
      ]
     },
     "execution_count": 18,
     "metadata": {},
     "output_type": "execute_result"
    }
   ],
   "source": [
    "total_data"
   ]
  },
  {
   "cell_type": "code",
   "execution_count": 19,
   "id": "3d5524e6",
   "metadata": {},
   "outputs": [],
   "source": [
    "Data = pd.concat([data, total_data])"
   ]
  },
  {
   "cell_type": "code",
   "execution_count": 20,
   "id": "62a551f2",
   "metadata": {},
   "outputs": [
    {
     "data": {
      "text/html": [
       "<div>\n",
       "<style scoped>\n",
       "    .dataframe tbody tr th:only-of-type {\n",
       "        vertical-align: middle;\n",
       "    }\n",
       "\n",
       "    .dataframe tbody tr th {\n",
       "        vertical-align: top;\n",
       "    }\n",
       "\n",
       "    .dataframe thead th {\n",
       "        text-align: right;\n",
       "    }\n",
       "</style>\n",
       "<table border=\"1\" class=\"dataframe\">\n",
       "  <thead>\n",
       "    <tr style=\"text-align: right;\">\n",
       "      <th></th>\n",
       "      <th>발화</th>\n",
       "      <th>감정_int</th>\n",
       "    </tr>\n",
       "  </thead>\n",
       "  <tbody>\n",
       "    <tr>\n",
       "      <th>0</th>\n",
       "      <td>언니 동생으로 부르는게 맞는 일인가요..??</td>\n",
       "      <td>0</td>\n",
       "    </tr>\n",
       "    <tr>\n",
       "      <th>1</th>\n",
       "      <td>그냥 내 느낌일뿐겠지?</td>\n",
       "      <td>0</td>\n",
       "    </tr>\n",
       "    <tr>\n",
       "      <th>2</th>\n",
       "      <td>아직너무초기라서 그런거죠?</td>\n",
       "      <td>0</td>\n",
       "    </tr>\n",
       "    <tr>\n",
       "      <th>3</th>\n",
       "      <td>유치원버스 사고 낫다던데</td>\n",
       "      <td>0</td>\n",
       "    </tr>\n",
       "    <tr>\n",
       "      <th>4</th>\n",
       "      <td>근데 원래이런거맞나요</td>\n",
       "      <td>0</td>\n",
       "    </tr>\n",
       "    <tr>\n",
       "      <th>...</th>\n",
       "      <td>...</td>\n",
       "      <td>...</td>\n",
       "    </tr>\n",
       "    <tr>\n",
       "      <th>199995</th>\n",
       "      <td>장마라그런가!!! 달지않아요</td>\n",
       "      <td>0</td>\n",
       "    </tr>\n",
       "    <tr>\n",
       "      <th>199996</th>\n",
       "      <td>다이슨 케이스 구매했어요 다이슨 슈퍼소닉 드라이기 케이스 구매했어요가격 괜찮고 배송...</td>\n",
       "      <td>1</td>\n",
       "    </tr>\n",
       "    <tr>\n",
       "      <th>199997</th>\n",
       "      <td>로드샾에서 사는것보다 세배 저렴하네요 ㅜㅜ 자주이용할께요</td>\n",
       "      <td>1</td>\n",
       "    </tr>\n",
       "    <tr>\n",
       "      <th>199998</th>\n",
       "      <td>넘이쁘고 쎄련되보이네요~</td>\n",
       "      <td>1</td>\n",
       "    </tr>\n",
       "    <tr>\n",
       "      <th>199999</th>\n",
       "      <td>아직 사용해보지도않았고 다른 제품을 써본적이없어서 잘 모르겠지만 ㅎㅎ 배송은 빨랐습니다</td>\n",
       "      <td>1</td>\n",
       "    </tr>\n",
       "  </tbody>\n",
       "</table>\n",
       "<p>213983 rows × 2 columns</p>\n",
       "</div>"
      ],
      "text/plain": [
       "                                                       발화  감정_int\n",
       "0                                언니 동생으로 부르는게 맞는 일인가요..??       0\n",
       "1                                            그냥 내 느낌일뿐겠지?       0\n",
       "2                                          아직너무초기라서 그런거죠?       0\n",
       "3                                           유치원버스 사고 낫다던데       0\n",
       "4                                             근데 원래이런거맞나요       0\n",
       "...                                                   ...     ...\n",
       "199995                                    장마라그런가!!! 달지않아요       0\n",
       "199996  다이슨 케이스 구매했어요 다이슨 슈퍼소닉 드라이기 케이스 구매했어요가격 괜찮고 배송...       1\n",
       "199997                    로드샾에서 사는것보다 세배 저렴하네요 ㅜㅜ 자주이용할께요       1\n",
       "199998                                      넘이쁘고 쎄련되보이네요~       1\n",
       "199999   아직 사용해보지도않았고 다른 제품을 써본적이없어서 잘 모르겠지만 ㅎㅎ 배송은 빨랐습니다       1\n",
       "\n",
       "[213983 rows x 2 columns]"
      ]
     },
     "execution_count": 20,
     "metadata": {},
     "output_type": "execute_result"
    }
   ],
   "source": [
    "Data"
   ]
  },
  {
   "cell_type": "code",
   "execution_count": 21,
   "id": "3467b9ff",
   "metadata": {},
   "outputs": [
    {
     "name": "stdout",
     "output_type": "stream",
     "text": [
      "훈련용 리뷰의 개수 : 160487\n",
      "테스트용 리뷰의 개수 : 53496\n"
     ]
    }
   ],
   "source": [
    "from sklearn.model_selection import train_test_split\n",
    "train, test = train_test_split(Data, test_size=0.25, random_state=210615)\n",
    "print('훈련용 리뷰의 개수 :', len(train))\n",
    "print('테스트용 리뷰의 개수 :', len(test))"
   ]
  },
  {
   "cell_type": "code",
   "execution_count": 22,
   "id": "43cb4c56",
   "metadata": {
    "scrolled": true
   },
   "outputs": [
    {
     "name": "stdout",
     "output_type": "stream",
     "text": [
      "   감정_int  count\n",
      "0       0  80350\n",
      "1       1  80137\n"
     ]
    },
    {
     "data": {
      "image/png": "[encoded data removed]",
      "text/plain": [
       "<Figure size 432x288 with 1 Axes>"
      ]
     },
     "metadata": {
      "needs_background": "light"
     },
     "output_type": "display_data"
    }
   ],
   "source": [
    "train['감정_int'].value_counts().plot(kind = 'bar')\n",
    "print(train.groupby('감정_int').size().reset_index(name = 'count'))"
   ]
  },
  {
   "cell_type": "code",
   "execution_count": 23,
   "id": "211cc82d",
   "metadata": {},
   "outputs": [
    {
     "data": {
      "text/html": [
       "<div>\n",
       "<style scoped>\n",
       "    .dataframe tbody tr th:only-of-type {\n",
       "        vertical-align: middle;\n",
       "    }\n",
       "\n",
       "    .dataframe tbody tr th {\n",
       "        vertical-align: top;\n",
       "    }\n",
       "\n",
       "    .dataframe thead th {\n",
       "        text-align: right;\n",
       "    }\n",
       "</style>\n",
       "<table border=\"1\" class=\"dataframe\">\n",
       "  <thead>\n",
       "    <tr style=\"text-align: right;\">\n",
       "      <th></th>\n",
       "      <th>발화</th>\n",
       "      <th>감정_int</th>\n",
       "    </tr>\n",
       "  </thead>\n",
       "  <tbody>\n",
       "    <tr>\n",
       "      <th>134198</th>\n",
       "      <td>댓글의 내용보다는 수분성분이 좀 약한 것 같아서 개인적으로 기대한 것 보다는 못 한...</td>\n",
       "      <td>0</td>\n",
       "    </tr>\n",
       "    <tr>\n",
       "      <th>9799</th>\n",
       "      <td>프라이팬 안 바닥 무니가 조금 이상하네요~</td>\n",
       "      <td>0</td>\n",
       "    </tr>\n",
       "    <tr>\n",
       "      <th>169586</th>\n",
       "      <td>아이 밤 기저귀 떼보려고 주문했어요. 세탁하고 처음 자다가 실수 했을땐 방수가 잘되...</td>\n",
       "      <td>0</td>\n",
       "    </tr>\n",
       "    <tr>\n",
       "      <th>369</th>\n",
       "      <td>항상 주문하는 제품으로 사이즈 좋고 무엇보다 손님들이 너무 맛있데요 .</td>\n",
       "      <td>1</td>\n",
       "    </tr>\n",
       "    <tr>\n",
       "      <th>67599</th>\n",
       "      <td>너무 약해요 성인이 앉으면 조심해야 합니다 바꾸기 귀찮아서 그냥 써요</td>\n",
       "      <td>0</td>\n",
       "    </tr>\n",
       "    <tr>\n",
       "      <th>...</th>\n",
       "      <td>...</td>\n",
       "      <td>...</td>\n",
       "    </tr>\n",
       "    <tr>\n",
       "      <th>109529</th>\n",
       "      <td>구성도 좋고, 빠른 배송이 마음에 들었어요. 손톱이 바디는 큰 편이고, 잦은 네일 ...</td>\n",
       "      <td>1</td>\n",
       "    </tr>\n",
       "    <tr>\n",
       "      <th>144497</th>\n",
       "      <td>오오 처음 먹어보는데 내장이 진득하고 고소 담백 맛나네요 다음에 또 주문할게요</td>\n",
       "      <td>1</td>\n",
       "    </tr>\n",
       "    <tr>\n",
       "      <th>349</th>\n",
       "      <td>저렴한 가격에 배송받으니 좋아요</td>\n",
       "      <td>1</td>\n",
       "    </tr>\n",
       "    <tr>\n",
       "      <th>55214</th>\n",
       "      <td>아직 미사용 괜찮은거 같아요</td>\n",
       "      <td>1</td>\n",
       "    </tr>\n",
       "    <tr>\n",
       "      <th>20302</th>\n",
       "      <td>다리 옆라인 봉제선이 약해요 함부로 입고 벗으면 투득투둑 소리나요 곧 뚫릴것 깉아요</td>\n",
       "      <td>0</td>\n",
       "    </tr>\n",
       "  </tbody>\n",
       "</table>\n",
       "<p>160487 rows × 2 columns</p>\n",
       "</div>"
      ],
      "text/plain": [
       "                                                       발화  감정_int\n",
       "134198  댓글의 내용보다는 수분성분이 좀 약한 것 같아서 개인적으로 기대한 것 보다는 못 한...       0\n",
       "9799                              프라이팬 안 바닥 무니가 조금 이상하네요~       0\n",
       "169586  아이 밤 기저귀 떼보려고 주문했어요. 세탁하고 처음 자다가 실수 했을땐 방수가 잘되...       0\n",
       "369               항상 주문하는 제품으로 사이즈 좋고 무엇보다 손님들이 너무 맛있데요 .       1\n",
       "67599              너무 약해요 성인이 앉으면 조심해야 합니다 바꾸기 귀찮아서 그냥 써요       0\n",
       "...                                                   ...     ...\n",
       "109529  구성도 좋고, 빠른 배송이 마음에 들었어요. 손톱이 바디는 큰 편이고, 잦은 네일 ...       1\n",
       "144497        오오 처음 먹어보는데 내장이 진득하고 고소 담백 맛나네요 다음에 또 주문할게요       1\n",
       "349                                     저렴한 가격에 배송받으니 좋아요       1\n",
       "55214                                     아직 미사용 괜찮은거 같아요       1\n",
       "20302      다리 옆라인 봉제선이 약해요 함부로 입고 벗으면 투득투둑 소리나요 곧 뚫릴것 깉아요       0\n",
       "\n",
       "[160487 rows x 2 columns]"
      ]
     },
     "execution_count": 23,
     "metadata": {},
     "output_type": "execute_result"
    }
   ],
   "source": [
    "train"
   ]
  },
  {
   "cell_type": "code",
   "execution_count": 24,
   "id": "3fde582c",
   "metadata": {},
   "outputs": [
    {
     "name": "stderr",
     "output_type": "stream",
     "text": [
      "<ipython-input-24-2981e347a926>:1: FutureWarning: The default value of regex will change from True to False in a future version.\n",
      "  train['발화'] = train['발화'].str.replace(\"[^ㄱ-ㅎㅏ-ㅣ가-힣 ]\",\"\")\n",
      "<ipython-input-24-2981e347a926>:1: SettingWithCopyWarning: \n",
      "A value is trying to be set on a copy of a slice from a DataFrame.\n",
      "Try using .loc[row_indexer,col_indexer] = value instead\n",
      "\n",
      "See the caveats in the documentation: https://pandas.pydata.org/pandas-docs/stable/user_guide/indexing.html#returning-a-view-versus-a-copy\n",
      "  train['발화'] = train['발화'].str.replace(\"[^ㄱ-ㅎㅏ-ㅣ가-힣 ]\",\"\")\n",
      "<ipython-input-24-2981e347a926>:2: FutureWarning: The default value of regex will change from True to False in a future version.\n",
      "  test['발화'] = test['발화'].str.replace(\"[^ㄱ-ㅎㅏ-ㅣ가-힣 ]\",\"\")\n",
      "<ipython-input-24-2981e347a926>:2: SettingWithCopyWarning: \n",
      "A value is trying to be set on a copy of a slice from a DataFrame.\n",
      "Try using .loc[row_indexer,col_indexer] = value instead\n",
      "\n",
      "See the caveats in the documentation: https://pandas.pydata.org/pandas-docs/stable/user_guide/indexing.html#returning-a-view-versus-a-copy\n",
      "  test['발화'] = test['발화'].str.replace(\"[^ㄱ-ㅎㅏ-ㅣ가-힣 ]\",\"\")\n"
     ]
    }
   ],
   "source": [
    "train['발화'] = train['발화'].str.replace(\"[^ㄱ-ㅎㅏ-ㅣ가-힣 ]\",\"\")\n",
    "test['발화'] = test['발화'].str.replace(\"[^ㄱ-ㅎㅏ-ㅣ가-힣 ]\",\"\")"
   ]
  },
  {
   "cell_type": "code",
   "execution_count": 25,
   "id": "731d5880",
   "metadata": {},
   "outputs": [
    {
     "name": "stderr",
     "output_type": "stream",
     "text": [
      "<ipython-input-25-aa04aa4f771e>:1: FutureWarning: The default value of regex will change from True to False in a future version.\n",
      "  train['발화'] = train['발화'].str.replace('^ +', \"\")\n"
     ]
    },
    {
     "name": "stdout",
     "output_type": "stream",
     "text": [
      "발화        1\n",
      "감정_int    0\n",
      "dtype: int64\n",
      "발화        0\n",
      "감정_int    0\n",
      "dtype: int64\n"
     ]
    },
    {
     "name": "stderr",
     "output_type": "stream",
     "text": [
      "<ipython-input-25-aa04aa4f771e>:1: SettingWithCopyWarning: \n",
      "A value is trying to be set on a copy of a slice from a DataFrame.\n",
      "Try using .loc[row_indexer,col_indexer] = value instead\n",
      "\n",
      "See the caveats in the documentation: https://pandas.pydata.org/pandas-docs/stable/user_guide/indexing.html#returning-a-view-versus-a-copy\n",
      "  train['발화'] = train['발화'].str.replace('^ +', \"\")\n",
      "<ipython-input-25-aa04aa4f771e>:2: FutureWarning: The default value of regex will change from True to False in a future version.\n",
      "  test['발화'] = test['발화'].str.replace('^ +', \"\")\n",
      "<ipython-input-25-aa04aa4f771e>:2: SettingWithCopyWarning: \n",
      "A value is trying to be set on a copy of a slice from a DataFrame.\n",
      "Try using .loc[row_indexer,col_indexer] = value instead\n",
      "\n",
      "See the caveats in the documentation: https://pandas.pydata.org/pandas-docs/stable/user_guide/indexing.html#returning-a-view-versus-a-copy\n",
      "  test['발화'] = test['발화'].str.replace('^ +', \"\")\n",
      "C:\\Users\\user\\.conda\\envs\\gz\\lib\\site-packages\\pandas\\core\\series.py:4509: SettingWithCopyWarning: \n",
      "A value is trying to be set on a copy of a slice from a DataFrame\n",
      "\n",
      "See the caveats in the documentation: https://pandas.pydata.org/pandas-docs/stable/user_guide/indexing.html#returning-a-view-versus-a-copy\n",
      "  return super().replace(\n"
     ]
    }
   ],
   "source": [
    "train['발화'] = train['발화'].str.replace('^ +', \"\")\n",
    "test['발화'] = test['발화'].str.replace('^ +', \"\")\n",
    "train['발화'].replace('', np.nan, inplace = True)\n",
    "test['발화'].replace('', np.nan, inplace = True)\n",
    "print(train.isnull().sum())\n",
    "print(test.isnull().sum())"
   ]
  },
  {
   "cell_type": "code",
   "execution_count": 26,
   "id": "85973515",
   "metadata": {},
   "outputs": [
    {
     "name": "stdout",
     "output_type": "stream",
     "text": [
      "발화        0\n",
      "감정_int    0\n",
      "dtype: int64\n",
      "발화        0\n",
      "감정_int    0\n",
      "dtype: int64\n",
      "전처리 후 트레인용 샘플의 개수 : 160486\n",
      "전처리 후 테스트용 샘플의 개수 : 53496\n"
     ]
    }
   ],
   "source": [
    "train.loc[train.발화.isnull()][:10]\n",
    "test.loc[test.발화.isnull()][:10]\n",
    "train = train.dropna(how='any')\n",
    "test = test.dropna(how='any')\n",
    "print(train.isnull().sum())\n",
    "print(test.isnull().sum())\n",
    "print('전처리 후 트레인용 샘플의 개수 :',len(train))\n",
    "print('전처리 후 테스트용 샘플의 개수 :',len(test))"
   ]
  },
  {
   "cell_type": "code",
   "execution_count": 27,
   "id": "83ab7a8c",
   "metadata": {},
   "outputs": [
    {
     "data": {
      "text/plain": [
       "['오다', '이렇다', '것', '도', '영화', '라고', '차라리', '뮤직비디오', '를', '만들다', '게', '나다', '뻔']"
      ]
     },
     "execution_count": 27,
     "metadata": {},
     "output_type": "execute_result"
    }
   ],
   "source": [
    "stopwords = ['도', '는', '다', '의', '가', '이', '은', '한', '에', '하', '고', '을', '를', '인', '듯', '과', '와', '네', '들', '듯', '지', '임', '게']\n",
    "okt = Okt()\n",
    "okt.morphs('와 이런 것도 영화라고 차라리 뮤직비디오를 만드는 게 나을 뻔', stem = True)"
   ]
  },
  {
   "cell_type": "code",
   "execution_count": 28,
   "id": "662e636d",
   "metadata": {},
   "outputs": [],
   "source": [
    "# 제대로 나누기\n",
    "\n",
    "t_train = [] # 75%\n",
    "t_test = [] # 25%\n",
    "for sentence in train['발화']:\n",
    "    temp_X = okt.morphs(sentence, stem = True) # 토큰화\n",
    "    temp_X = [word for word in temp_X if not word in stopwords] # 불용어 제거\n",
    "    t_train.append(temp_X)\n",
    "    \n",
    "for sentence in test['발화']:\n",
    "    temp_X = okt.morphs(sentence, stem = True) # 토큰화\n",
    "    temp_X = [word for word in temp_X if not word in stopwords] # 불용어 제거\n",
    "    t_test.append(temp_X)"
   ]
  },
  {
   "cell_type": "markdown",
   "id": "53b9932b",
   "metadata": {},
   "source": [
    "import nltk\n",
    "nltk.download('punkt')\n",
    "nltk.download('treebank')\n",
    "\n",
    "from nltk.tokenize import word_tokenize\n",
    "from nltk.tokenize import WordPunctTokenizer\n",
    "from nltk.tokenize import TreebankWordTokenizer\n",
    "\n",
    "tb_tokenizer = TreebankWordTokenizer()"
   ]
  },
  {
   "cell_type": "code",
   "execution_count": 29,
   "id": "c9d2433b",
   "metadata": {},
   "outputs": [],
   "source": [
    "tokenizer = Tokenizer()\n",
    "tokenizer.fit_on_texts(t_train)\n",
    "tokenizer.fit_on_texts(t_test)"
   ]
  },
  {
   "cell_type": "code",
   "execution_count": 57,
   "id": "43f0e31d",
   "metadata": {},
   "outputs": [],
   "source": [
    "import pickle\n",
    " \n",
    "## Save pickle\n",
    "with open(\"senti.pickle\",\"wb\") as fw:\n",
    "    pickle.dump(tokenizer, fw)\n",
    " \n"
   ]
  },
  {
   "cell_type": "code",
   "execution_count": 165,
   "id": "2819529e",
   "metadata": {},
   "outputs": [
    {
     "name": "stdout",
     "output_type": "stream",
     "text": [
      "단어 집합(vocabulary)의 크기 : 46869\n",
      "등장 빈도가 0번 이하인 희귀 단어의 수: 0\n",
      "단어 집합에서 희귀 단어의 비율: 0.0\n",
      "전체 등장 빈도에서 희귀 단어 등장 빈도 비율: 0.0\n"
     ]
    }
   ],
   "source": [
    "threshold = 1\n",
    "total_cnt = len(tokenizer.word_index) # 단어의 수\n",
    "rare_cnt = 0 # 등장 빈도수가 threshold보다 작은 단어의 개수를 카운트\n",
    "total_freq = 0 # 훈련 데이터의 전체 단어 빈도수 총 합\n",
    "rare_freq = 0 # 등장 빈도수가 threshold보다 작은 단어의 등장 빈도수의 총 합\n",
    "\n",
    "# 단어와 빈도수의 쌍(pair)을 key와 value로 받는다.\n",
    "for key, value in tokenizer.word_counts.items():\n",
    "    total_freq = total_freq + value\n",
    "\n",
    "    # 단어의 등장 빈도수가 threshold보다 작으면\n",
    "    if(value < threshold):\n",
    "        rare_cnt = rare_cnt + 1\n",
    "        rare_freq = rare_freq + value\n",
    "\n",
    "print('단어 집합(vocabulary)의 크기 :',total_cnt)\n",
    "print('등장 빈도가 %s번 이하인 희귀 단어의 수: %s'%(threshold - 1, rare_cnt))\n",
    "print(\"단어 집합에서 희귀 단어의 비율:\", (rare_cnt / total_cnt) * 100)\n",
    "print(\"전체 등장 빈도에서 희귀 단어 등장 빈도 비율:\", (rare_freq / total_freq) * 100)"
   ]
  },
  {
   "cell_type": "code",
   "execution_count": 166,
   "id": "297901ae",
   "metadata": {},
   "outputs": [
    {
     "name": "stdout",
     "output_type": "stream",
     "text": [
      "단어 집합의 크기 : 46870\n"
     ]
    }
   ],
   "source": [
    "# 전체 단어 개수 중 빈도수 2이하인 단어는 제거.\n",
    "# 0번 패딩 토큰을 고려하여 + 1\n",
    "vocab_size = total_cnt - rare_cnt + 1\n",
    "print('단어 집합의 크기 :', vocab_size)"
   ]
  },
  {
   "cell_type": "code",
   "execution_count": null,
   "id": "73bc0100",
   "metadata": {},
   "outputs": [],
   "source": []
  },
  {
   "cell_type": "markdown",
   "id": "c292fb96",
   "metadata": {},
   "source": [
    "# 빈도수 높은 단어 확인"
   ]
  },
  {
   "cell_type": "markdown",
   "id": "5a11b1a3",
   "metadata": {},
   "source": [
    "# 알고리즘 수정 전 수정"
   ]
  },
  {
   "cell_type": "code",
   "execution_count": 167,
   "id": "eaa0e17a",
   "metadata": {},
   "outputs": [
    {
     "data": {
      "text/html": [
       "<div>\n",
       "<style scoped>\n",
       "    .dataframe tbody tr th:only-of-type {\n",
       "        vertical-align: middle;\n",
       "    }\n",
       "\n",
       "    .dataframe tbody tr th {\n",
       "        vertical-align: top;\n",
       "    }\n",
       "\n",
       "    .dataframe thead th {\n",
       "        text-align: right;\n",
       "    }\n",
       "</style>\n",
       "<table border=\"1\" class=\"dataframe\">\n",
       "  <thead>\n",
       "    <tr style=\"text-align: right;\">\n",
       "      <th></th>\n",
       "      <th>발화</th>\n",
       "      <th>감정_int</th>\n",
       "    </tr>\n",
       "  </thead>\n",
       "  <tbody>\n",
       "    <tr>\n",
       "      <th>134198</th>\n",
       "      <td>댓글의 내용보다는 수분성분이 좀 약한 것 같아서 개인적으로 기대한 것 보다는 못 한...</td>\n",
       "      <td>0</td>\n",
       "    </tr>\n",
       "    <tr>\n",
       "      <th>9799</th>\n",
       "      <td>프라이팬 안 바닥 무니가 조금 이상하네요</td>\n",
       "      <td>0</td>\n",
       "    </tr>\n",
       "    <tr>\n",
       "      <th>169586</th>\n",
       "      <td>아이 밤 기저귀 떼보려고 주문했어요 세탁하고 처음 자다가 실수 했을땐 방수가 잘되서...</td>\n",
       "      <td>0</td>\n",
       "    </tr>\n",
       "  </tbody>\n",
       "</table>\n",
       "</div>"
      ],
      "text/plain": [
       "                                                       발화  감정_int\n",
       "134198  댓글의 내용보다는 수분성분이 좀 약한 것 같아서 개인적으로 기대한 것 보다는 못 한...       0\n",
       "9799                               프라이팬 안 바닥 무니가 조금 이상하네요       0\n",
       "169586  아이 밤 기저귀 떼보려고 주문했어요 세탁하고 처음 자다가 실수 했을땐 방수가 잘되서...       0"
      ]
     },
     "execution_count": 167,
     "metadata": {},
     "output_type": "execute_result"
    }
   ],
   "source": [
    "train[:3]"
   ]
  },
  {
   "cell_type": "code",
   "execution_count": 168,
   "id": "4c2e1ddc",
   "metadata": {},
   "outputs": [],
   "source": [
    "t_train1 = tokenizer.texts_to_sequences(t_train)\n",
    "t_test1 = tokenizer.texts_to_sequences(t_test)"
   ]
  },
  {
   "cell_type": "code",
   "execution_count": 169,
   "id": "e0801dda",
   "metadata": {},
   "outputs": [],
   "source": [
    "e_train = train['감정_int']\n",
    "e_test = test['감정_int']"
   ]
  },
  {
   "cell_type": "code",
   "execution_count": 170,
   "id": "8b3a8e35",
   "metadata": {},
   "outputs": [
    {
     "name": "stdout",
     "output_type": "stream",
     "text": [
      "문장의 최대 길이 : 61\n",
      "문장의 평균 길이 : 12.114333960594694\n"
     ]
    },
    {
     "data": {
      "image/png": "[encoded data removed]",
      "text/plain": [
       "<Figure size 432x288 with 1 Axes>"
      ]
     },
     "metadata": {
      "needs_background": "light"
     },
     "output_type": "display_data"
    }
   ],
   "source": [
    "print('문장의 최대 길이 :',max(len(l) for l in t_train1))\n",
    "print('문장의 평균 길이 :',sum(map(len, t_train1))/len(t_train1))\n",
    "plt.hist([len(s) for s in t_train1], bins=50)\n",
    "plt.xlabel('length of samples')\n",
    "plt.ylabel('number of samples')\n",
    "plt.show()"
   ]
  },
  {
   "cell_type": "code",
   "execution_count": 171,
   "id": "24096af7",
   "metadata": {},
   "outputs": [],
   "source": [
    "def below_threshold_len(max_len, nested_list):\n",
    "  cnt = 0\n",
    "  for s in nested_list:\n",
    "    if(len(s) <= max_len):\n",
    "        cnt = cnt + 1\n",
    "  print('전체 샘플 중 길이가 %s 이하인 샘플의 비율: %s'%(max_len, (cnt / len(nested_list))*100))"
   ]
  },
  {
   "cell_type": "code",
   "execution_count": 172,
   "id": "c6f56d08",
   "metadata": {},
   "outputs": [
    {
     "name": "stdout",
     "output_type": "stream",
     "text": [
      "전체 샘플 중 길이가 40 이하인 샘플의 비율: 99.1014792567576\n"
     ]
    }
   ],
   "source": [
    "max_len = 40\n",
    "below_threshold_len(max_len, t_train1)"
   ]
  },
  {
   "cell_type": "code",
   "execution_count": 173,
   "id": "bb529723",
   "metadata": {},
   "outputs": [],
   "source": [
    "t_train2 = pad_sequences(t_train1, maxlen = max_len)\n",
    "# t_train11, t_train22 = tokenizer.texts_to_sequences\n",
    "t_test2 = pad_sequences(t_test1, maxlen = max_len)"
   ]
  },
  {
   "cell_type": "code",
   "execution_count": 174,
   "id": "601ce752",
   "metadata": {},
   "outputs": [],
   "source": [
    "from keras import models\n",
    "from tensorflow.keras.layers import Embedding, Dense, LSTM, GRU, Dropout\n",
    "from tensorflow.keras.models import Sequential\n",
    "from tensorflow.keras.models import load_model\n",
    "from tensorflow.keras.callbacks import EarlyStopping, ModelCheckpoint"
   ]
  },
  {
   "cell_type": "code",
   "execution_count": 175,
   "id": "f208d43c",
   "metadata": {},
   "outputs": [
    {
     "name": "stdout",
     "output_type": "stream",
     "text": [
      "Model: \"sequential_15\"\n",
      "_________________________________________________________________\n",
      "Layer (type)                 Output Shape              Param #   \n",
      "=================================================================\n",
      "embedding_15 (Embedding)     (None, None, 100)         4687000   \n",
      "_________________________________________________________________\n",
      "gru_20 (GRU)                 (None, 128)               88320     \n",
      "_________________________________________________________________\n",
      "dense_32 (Dense)             (None, 1)                 129       \n",
      "=================================================================\n",
      "Total params: 4,775,449\n",
      "Trainable params: 4,775,449\n",
      "Non-trainable params: 0\n",
      "_________________________________________________________________\n",
      "Epoch 1/15\n",
      "2140/2140 [==============================] - 194s 89ms/step - loss: 0.0867 - acc: 0.8853 - val_loss: 0.0765 - val_acc: 0.8992\n",
      "\n",
      "Epoch 00001: val_acc improved from -inf to 0.89925, saving model to best_model.h5\n",
      "Epoch 2/15\n",
      "2140/2140 [==============================] - 188s 88ms/step - loss: 0.0611 - acc: 0.9227 - val_loss: 0.0748 - val_acc: 0.9027\n",
      "\n",
      "Epoch 00002: val_acc improved from 0.89925 to 0.90274, saving model to best_model.h5\n",
      "Epoch 3/15\n",
      "2140/2140 [==============================] - 185s 86ms/step - loss: 0.0495 - acc: 0.9395 - val_loss: 0.0764 - val_acc: 0.9027\n",
      "\n",
      "Epoch 00003: val_acc did not improve from 0.90274\n",
      "Epoch 4/15\n",
      "2140/2140 [==============================] - 185s 87ms/step - loss: 0.0412 - acc: 0.9501 - val_loss: 0.0791 - val_acc: 0.9002\n",
      "\n",
      "Epoch 00004: val_acc did not improve from 0.90274\n",
      "Epoch 5/15\n",
      "2140/2140 [==============================] - 185s 87ms/step - loss: 0.0355 - acc: 0.9581 - val_loss: 0.0831 - val_acc: 0.8973\n",
      "\n",
      "Epoch 00005: val_acc did not improve from 0.90274\n",
      "Epoch 6/15\n",
      "2140/2140 [==============================] - 357s 167ms/step - loss: 0.0309 - acc: 0.9640 - val_loss: 0.0856 - val_acc: 0.8948\n",
      "\n",
      "Epoch 00006: val_acc did not improve from 0.90274\n",
      "Epoch 00006: early stopping\n"
     ]
    }
   ],
   "source": [
    "model = Sequential()\n",
    "model.add(Embedding(vocab_size, 100))\n",
    "model.add(GRU(128))\n",
    "model.add(Dense(1, activation='sigmoid'))\n",
    "\n",
    "model.summary()\n",
    "\n",
    "es = EarlyStopping(monitor='val_loss', mode='min'\n",
    "                   \n",
    "                   , verbose=1, patience=4)\n",
    "mc = ModelCheckpoint('best_model.h5', monitor='val_acc', mode='max', verbose=1, save_best_only=True)\n",
    "\n",
    "model.compile(optimizer='adam', loss='mse', metrics=['acc'])\n",
    "history = model.fit(t_train2, e_train, epochs=15, callbacks=[es, mc], batch_size=60, validation_split=0.2)"
   ]
  },
  {
   "cell_type": "code",
   "execution_count": 176,
   "id": "2141cc08",
   "metadata": {},
   "outputs": [
    {
     "name": "stdout",
     "output_type": "stream",
     "text": [
      "1672/1672 [==============================] - 20s 12ms/step - loss: 0.0752 - acc: 0.9021\n",
      "\n",
      " 테스트 정확도: 0.9021\n"
     ]
    }
   ],
   "source": [
    "loaded_model = load_model('best_model.h5')\n",
    "print(\"\\n 테스트 정확도: %.4f\" % (loaded_model.evaluate(t_test2, e_test)[1]))"
   ]
  },
  {
   "cell_type": "code",
   "execution_count": 102,
   "id": "bf099c2a",
   "metadata": {},
   "outputs": [
    {
     "name": "stdout",
     "output_type": "stream",
     "text": [
      "Model: \"sequential_5\"\n",
      "_________________________________________________________________\n",
      "Layer (type)                 Output Shape              Param #   \n",
      "=================================================================\n",
      "embedding_5 (Embedding)      (None, None, 100)         4687000   \n",
      "_________________________________________________________________\n",
      "gru_5 (GRU)                  (None, None, 128)         88320     \n",
      "_________________________________________________________________\n",
      "gru_6 (GRU)                  (None, 32)                15552     \n",
      "_________________________________________________________________\n",
      "dense_17 (Dense)             (None, 1)                 33        \n",
      "=================================================================\n",
      "Total params: 4,790,905\n",
      "Trainable params: 4,790,905\n",
      "Non-trainable params: 0\n",
      "_________________________________________________________________\n"
     ]
    }
   ],
   "source": [
    "loaded_model.summary()"
   ]
  },
  {
   "cell_type": "code",
   "execution_count": 103,
   "id": "115be216",
   "metadata": {},
   "outputs": [],
   "source": [
    "def sentiment_predict(new_sentence):\n",
    "    new_sentence = okt.morphs(new_sentence, stem=True) # 토큰화\n",
    "    new_sentence = [word for word in new_sentence if not word in stopwords] # 불용어 제거\n",
    "    encoded = tokenizer.texts_to_sequences([new_sentence]) # 정수 인코딩\n",
    "    pad_new = pad_sequences(encoded, maxlen = max_len) # 패딩\n",
    "    score = float(loaded_model.predict(pad_new)) # 예측\n",
    "    if(score > 0.8):\n",
    "        print(\"{:.4f}행복합니다.\\n\".format(score))\n",
    "    elif(score > 0.6) :\n",
    "        print(\"{:.4f}약간 기분이 좋습니다.\\n\".format(score))\n",
    "    elif(score > 0.4) :\n",
    "        print(\"{:.4f}약간 기분이 안좋습니다.\\n\".format(score))\n",
    "    elif(score > 0.2) :\n",
    "        print(\"{:.4f}기분이 나쁩니다.\\n\".format(score))\n",
    "    else:\n",
    "        print(\"{:.4f}기분이 매우 나쁩니다.\\n\".format(score))"
   ]
  },
  {
   "cell_type": "code",
   "execution_count": 141,
   "id": "5f5c0d9f",
   "metadata": {},
   "outputs": [
    {
     "name": "stdout",
     "output_type": "stream",
     "text": [
      "0.1783기분이 매우 나쁩니다.\n",
      "\n"
     ]
    }
   ],
   "source": [
    "sentiment_predict('뭐가 문제야')"
   ]
  },
  {
   "cell_type": "code",
   "execution_count": 142,
   "id": "fc49eaff",
   "metadata": {},
   "outputs": [
    {
     "name": "stdout",
     "output_type": "stream",
     "text": [
      "0에 가까우면 부정, 1에 가까우면 긍정\n",
      "\n",
      "0.0099기분이 매우 나쁩니다.\n",
      "\n"
     ]
    }
   ],
   "source": [
    "print('0에 가까우면 부정, 1에 가까우면 긍정\\n')\n",
    "sentiment_predict('아 진짜 짜증난다 이게 뭐냐 되는 일도 없고')"
   ]
  },
  {
   "cell_type": "code",
   "execution_count": 143,
   "id": "138ede30",
   "metadata": {},
   "outputs": [
    {
     "name": "stdout",
     "output_type": "stream",
     "text": [
      "0에 가까우면 부정, 1에 가까우면 긍정\n",
      "\n",
      "0.2049기분이 나쁩니다.\n",
      "\n"
     ]
    }
   ],
   "source": [
    "print('0에 가까우면 부정, 1에 가까우면 긍정\\n')\n",
    "sentiment_predict('오늘 야근이라서')"
   ]
  },
  {
   "cell_type": "code",
   "execution_count": 144,
   "id": "9ea5700b",
   "metadata": {},
   "outputs": [
    {
     "name": "stdout",
     "output_type": "stream",
     "text": [
      "0에 가까우면 부정, 1에 가까우면 긍정\n",
      "\n",
      "0.6182약간 기분이 좋습니다.\n",
      "\n"
     ]
    }
   ],
   "source": [
    "print('0에 가까우면 부정, 1에 가까우면 긍정\\n')\n",
    "sentiment_predict('오늘 데이트 어디서 할까??')"
   ]
  },
  {
   "cell_type": "code",
   "execution_count": 145,
   "id": "58173f27",
   "metadata": {},
   "outputs": [
    {
     "name": "stdout",
     "output_type": "stream",
     "text": [
      "0에 가까우면 부정, 1에 가까우면 긍정\n",
      "\n",
      "0.0467기분이 매우 나쁩니다.\n",
      "\n"
     ]
    }
   ],
   "source": [
    "print('0에 가까우면 부정, 1에 가까우면 긍정\\n')\n",
    "sentiment_predict('저희 조 망했어요')"
   ]
  },
  {
   "cell_type": "code",
   "execution_count": 146,
   "id": "81fb3dde",
   "metadata": {
    "scrolled": false
   },
   "outputs": [
    {
     "name": "stdout",
     "output_type": "stream",
     "text": [
      "0에 가까우면 부정, 1에 가까우면 긍정\n",
      "\n",
      "0.8004행복합니다.\n",
      "\n"
     ]
    }
   ],
   "source": [
    "print('0에 가까우면 부정, 1에 가까우면 긍정\\n')\n",
    "sentiment_predict('오늘 집에 가서 뭐하지?')"
   ]
  },
  {
   "cell_type": "code",
   "execution_count": 147,
   "id": "1e27acd3",
   "metadata": {},
   "outputs": [
    {
     "name": "stdout",
     "output_type": "stream",
     "text": [
      "0.9621행복합니다.\n",
      "\n"
     ]
    }
   ],
   "source": [
    "sentiment_predict('그래주면 좋겠는데 괜찮겠어?')"
   ]
  },
  {
   "cell_type": "code",
   "execution_count": 148,
   "id": "e1fbe699",
   "metadata": {},
   "outputs": [
    {
     "name": "stdout",
     "output_type": "stream",
     "text": [
      "0.1799기분이 매우 나쁩니다.\n",
      "\n"
     ]
    }
   ],
   "source": [
    "sentiment_predict('이번주는 시험기간')"
   ]
  },
  {
   "cell_type": "code",
   "execution_count": 149,
   "id": "87b79be8",
   "metadata": {},
   "outputs": [
    {
     "name": "stdout",
     "output_type": "stream",
     "text": [
      "0.9860행복합니다.\n",
      "\n"
     ]
    }
   ],
   "source": [
    "sentiment_predict('축하축하')"
   ]
  },
  {
   "cell_type": "code",
   "execution_count": 113,
   "id": "86918577",
   "metadata": {},
   "outputs": [
    {
     "name": "stdout",
     "output_type": "stream",
     "text": [
      "0.9848행복합니다.\n",
      "\n"
     ]
    }
   ],
   "source": [
    "sentiment_predict('날도 좋은데 시원하게 맥주 한잔 콜?')"
   ]
  },
  {
   "cell_type": "code",
   "execution_count": 114,
   "id": "e35a5b00",
   "metadata": {},
   "outputs": [
    {
     "name": "stdout",
     "output_type": "stream",
     "text": [
      "0.9512행복합니다.\n",
      "\n"
     ]
    }
   ],
   "source": [
    "sentiment_predict('이현지 최고~~~~')"
   ]
  },
  {
   "cell_type": "code",
   "execution_count": 115,
   "id": "355add51",
   "metadata": {},
   "outputs": [
    {
     "data": {
      "image/png": "[encoded data removed]",
      "text/plain": [
       "<Figure size 432x288 with 1 Axes>"
      ]
     },
     "metadata": {
      "needs_background": "light"
     },
     "output_type": "display_data"
    }
   ],
   "source": [
    "# 테스트 셋의 오차\n",
    "y_vloss = history.history['val_loss']\n",
    "\n",
    "# 학습셋의 오차\n",
    "y_loss = history.history['loss']\n",
    "\n",
    "# 그래프로 표현\n",
    "x_len = np.arange(len(y_loss))\n",
    "plt.plot(x_len, y_vloss, marker='.', c=\"red\", label='Testset_loss')\n",
    "plt.plot(x_len, y_loss, marker='.', c=\"blue\", label='Trainset_loss')\n",
    "\n",
    "# 그래프에 그리드를 주고 레이블을 표시\n",
    "plt.legend(loc='upper right')\n",
    "plt.grid()\n",
    "plt.xlabel('epoch')\n",
    "plt.ylabel('loss')\n",
    "plt.show()"
   ]
  },
  {
   "cell_type": "code",
   "execution_count": 177,
   "id": "aa73a385",
   "metadata": {},
   "outputs": [
    {
     "data": {
      "image/png": "[encoded data removed]",
      "text/plain": [
       "<Figure size 432x288 with 1 Axes>"
      ]
     },
     "metadata": {
      "needs_background": "light"
     },
     "output_type": "display_data"
    }
   ],
   "source": [
    " # 테스트 셋의 오차\n",
    "y_vloss = history.history['val_loss']\n",
    "\n",
    "# 학습셋의 오차\n",
    "y_loss = history.history['loss']\n",
    "\n",
    "# 그래프로 표현\n",
    "x_len = np.arange(len(y_loss))\n",
    "plt.plot(x_len, y_vloss, marker='.', c=\"red\", label='Testset_loss')\n",
    "plt.plot(x_len, y_loss, marker='.', c=\"blue\", label='Trainset_loss')\n",
    "\n",
    "# 그래프에 그리드를 주고 레이블을 표시\n",
    "plt.legend(loc='upper right')\n",
    "plt.grid()\n",
    "plt.xlabel('epoch')\n",
    "plt.ylabel('loss')\n",
    "plt.show()"
   ]
  },
  {
   "cell_type": "code",
   "execution_count": 132,
   "id": "4bee01c2",
   "metadata": {},
   "outputs": [
    {
     "data": {
      "image/png": "[encoded data removed]",
      "text/plain": [
       "<Figure size 432x288 with 1 Axes>"
      ]
     },
     "metadata": {
      "needs_background": "light"
     },
     "output_type": "display_data"
    }
   ],
   "source": [
    " # 테스트 셋의 오차\n",
    "y_vloss = history.history['val_loss']\n",
    "\n",
    "# 학습셋의 오차\n",
    "y_loss = history.history['loss']\n",
    "\n",
    "# 그래프로 표현\n",
    "x_len = np.arange(len(y_loss))\n",
    "plt.plot(x_len, y_vloss, marker='.', c=\"red\", label='Testset_loss')\n",
    "plt.plot(x_len, y_loss, marker='.', c=\"blue\", label='Trainset_loss')\n",
    "\n",
    "# 그래프에 그리드를 주고 레이블을 표시\n",
    "plt.legend(loc='upper right')\n",
    "plt.grid()\n",
    "plt.xlabel('epoch')\n",
    "plt.ylabel('loss')\n",
    "plt.show()"
   ]
  },
  {
   "cell_type": "code",
   "execution_count": null,
   "id": "c2c64596",
   "metadata": {},
   "outputs": [],
   "source": []
  }
 ],
 "metadata": {
  "kernelspec": {
   "display_name": "Python 3",
   "language": "python",
   "name": "python3"
  },
  "language_info": {
   "codemirror_mode": {
    "name": "ipython",
    "version": 3
   },
   "file_extension": ".py",
   "mimetype": "text/x-python",
   "name": "python",
   "nbconvert_exporter": "python",
   "pygments_lexer": "ipython3",
   "version": "3.8.10"
  }
 },
 "nbformat": 4,
 "nbformat_minor": 5
}
