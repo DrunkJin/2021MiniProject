{
 "cells": [
  {
   "cell_type": "code",
   "execution_count": 1,
   "id": "19a2b14a",
   "metadata": {},
   "outputs": [],
   "source": [
    "from tensorflow.keras.models import load_model\n",
    "import random\n",
    "from konlpy.tag import Okt\n",
    "from tensorflow.keras.preprocessing.text import Tokenizer\n",
    "import pickle\n",
    "from tensorflow.keras.preprocessing.sequence import pad_sequences\n",
    "with open(\"senti.pickle\",\"rb\") as fr:\n",
    "    tokenizer = pickle.load(fr)\n",
    "\n",
    "okt = Okt()\n",
    "stopwords = ['도', '는', '다', '의', '가', '이', '은', '한', '에', '하', '고', '을', '를', '인', '듯', '과', '와', '네', '들', '듯', '지', '임', '게']\n",
    "loaded_model = load_model('adam.mse.h5')\n",
    "max_len = 40\n",
    "global timecheck\n",
    "global corpus\n",
    "global avg_emo\n",
    "timecheck = []\n",
    "corpus = []"
   ]
  },
  {
   "cell_type": "code",
   "execution_count": 2,
   "id": "485ff696",
   "metadata": {},
   "outputs": [],
   "source": [
    "def sentiment_predict(new_sentence):\n",
    "    new_sentence = okt.morphs(new_sentence, stem=True) # 토큰화\n",
    "    new_sentence = [word for word in new_sentence if not word in stopwords] # 불용어 제거\n",
    "    encoded = tokenizer.texts_to_sequences([new_sentence]) # 정수 인코딩\n",
    "    pad_new = pad_sequences(encoded, maxlen = max_len) # 패딩\n",
    "    score = float(loaded_model.predict(pad_new)) # 예측\n",
    "    \n",
    "    if(score > 0.8):\n",
    "        print(\"{:.4f}행복합니다.\\n\".format(score))\n",
    "    elif(score > 0.6): \n",
    "        print(\"{:.4f}약간 기분이 좋습니다.\\n\".format(score))\n",
    "    elif(score > 0.4) :\n",
    "        print(\"{:.4f}약간 기분이 안좋습니다.\\n\".format(score))\n",
    "    elif(score > 0.2) :\n",
    "        print(\"{:.4f}기분이 나쁩니다.\\n\".format(score))\n",
    "    else:\n",
    "        print(\"{:.4f}기분이 매우 나쁩니다.\\n\".format(score))"
   ]
  },
  {
   "cell_type": "code",
   "execution_count": 3,
   "id": "4eb91ad5",
   "metadata": {},
   "outputs": [
    {
     "name": "stdout",
     "output_type": "stream",
     "text": [
      "0.0467기분이 매우 나쁩니다.\n",
      "\n"
     ]
    }
   ],
   "source": [
    "sentiment_predict('저희 조 망했어요')"
   ]
  },
  {
   "cell_type": "code",
   "execution_count": 4,
   "id": "9ab3fbfa",
   "metadata": {},
   "outputs": [],
   "source": [
    "a_1=['치즈','밥','찌개','치킨']\n",
    "a_2=['라떼','볶음밥','초밥','회']\n",
    "a_3=['닭발','갈비찜','떡볶이','물']\n",
    "b_1=['올레길','호수공원','노래방','피씨방']\n",
    "b_2=['당구장','만화방','카페','헬스장']\n",
    "b_3=['야구장','사격장','낚시터','빵집']\n",
    "\n",
    "category = [a_1,a_2,a_3,b_1,b_2,b_3]\n"
   ]
  },
  {
   "cell_type": "code",
   "execution_count": 5,
   "id": "1f3cdbdf",
   "metadata": {
    "scrolled": true
   },
   "outputs": [
    {
     "data": {
      "text/plain": [
       "'빵집'"
      ]
     },
     "execution_count": 5,
     "metadata": {},
     "output_type": "execute_result"
    }
   ],
   "source": [
    "random.choice(random.choice(category))"
   ]
  },
  {
   "cell_type": "code",
   "execution_count": 6,
   "id": "34f2f0dc",
   "metadata": {},
   "outputs": [],
   "source": [
    "def recomend_sys(new_sentence):\n",
    "    new_sentence = okt.morphs(new_sentence, stem=True) # 토큰화\n",
    "    new_sentence = [word for word in new_sentence if not word in stopwords] # 불용어 제거\n",
    "    encoded = tokenizer.texts_to_sequences([new_sentence]) # 정수 인코딩\n",
    "    pad_new = pad_sequences(encoded, maxlen = max_len) # 패딩\n",
    "    score = float(loaded_model.predict(pad_new)) # 예측\n",
    "    \n",
    "    if(score > 0.8):\n",
    "        print(\"{0:.4f}\\n오늘처럼 좋은 날엔 {1} 어떠신가요?\\n\".format(score,random.choice(random.choice(category))))\n",
    "    \n",
    "    elif(score > 0.6): \n",
    "        print(\"{0:.4f}\\n좋은 일있으신가요? 오늘 {1} 어떠세요?\\n\".format(score,random.choice(random.choice(category))))\n",
    "        \n",
    "    elif(score > 0.4) :\n",
    "        print(\"{0:.4f}\\n오늘같은 날에는 {1} 어때요? 기분이 좋아지게 해줄거에요!\\n\".format(score,random.choice(random.choice(category))))\n",
    "        \n",
    "    elif(score > 0.3) :\n",
    "        print(\"{0:.4f}\\n꿀꿀한 오늘 {1} 추천해요.\\n\".format(score,random.choice(random.choice(category))))\n",
    "        \n",
    "    elif(score > 0.18) :\n",
    "        print(\"{0:.4f}\\n 오늘 {1} 어떠세요? 안좋은 기분을 환기시켜줄 거에요.\\n\".format(score,random.choice(random.choice(category))))\n",
    "        \n",
    "    else:\n",
    "        print(\"{0:.4f}\\n 오늘 안좋은 일이 있으셨나요. 오늘같은 날 {1} 어떨까요?\\n\".format(score,random.choice(random.choice(category))))"
   ]
  },
  {
   "cell_type": "code",
   "execution_count": 7,
   "id": "790a319d",
   "metadata": {},
   "outputs": [
    {
     "name": "stdout",
     "output_type": "stream",
     "text": [
      "안됩니다\n",
      "0.0244\n",
      " 오늘 안좋은 일이 있으셨나요. 오늘같은 날 빵집 어떨까요?\n",
      "\n"
     ]
    }
   ],
   "source": [
    "recomend_sys(input())"
   ]
  },
  {
   "cell_type": "code",
   "execution_count": 8,
   "id": "526122e2",
   "metadata": {},
   "outputs": [],
   "source": [
    "from datetime import *\n",
    "import datetime\n",
    "import time"
   ]
  },
  {
   "cell_type": "code",
   "execution_count": 9,
   "id": "17f4ff6a",
   "metadata": {},
   "outputs": [],
   "source": [
    "now = datetime.datetime.now()"
   ]
  },
  {
   "cell_type": "code",
   "execution_count": 10,
   "id": "8f6dc9b7",
   "metadata": {},
   "outputs": [],
   "source": [
    "global score\n",
    "global timecheck\n",
    "global corpus\n",
    "timecheck = []\n",
    "corpus = []"
   ]
  },
  {
   "cell_type": "code",
   "execution_count": 18,
   "id": "70d13cc5",
   "metadata": {},
   "outputs": [],
   "source": [
    "def recomend_sys(new_sentence):\n",
    "    global score\n",
    "    global timecheck\n",
    "    global corpus\n",
    "    global score\n",
    "    global avg_emo\n",
    "\n",
    "    new_sentence = okt.morphs(new_sentence, stem=True) # 토큰화\n",
    "    new_sentence = [word for word in new_sentence if not word in stopwords] # 불용어 제거\n",
    "    encoded = tokenizer.texts_to_sequences([new_sentence]) # 정수 인코딩\n",
    "    pad_new = pad_sequences(encoded, maxlen = max_len) # 패딩\n",
    "    score = float(loaded_model.predict(pad_new)) # 예측\n",
    "    if(score > 0.8):\n",
    "        print(\"{0:.4f}\\n오늘처럼 좋은 날엔 {1} 어떠신가요?\\n\".format(score,random.choice(random.choice(category))))\n",
    "    \n",
    "    elif(score > 0.6): \n",
    "        print(\"{0:.4f}\\n좋은 일있으신가요? 오늘 {1} 어떠세요?\\n\".format(score,random.choice(random.choice(category))))\n",
    "        \n",
    "    elif(score > 0.4) :\n",
    "        print(\"{0:.4f}\\n오늘같은 날에는 {1} 어때요? 기분이 좋아지게 해줄거에요!\\n\".format(score,random.choice(random.choice(category))))\n",
    "        \n",
    "    elif(score > 0.3) :\n",
    "        print(\"{0:.4f}\\n꿀꿀한 오늘 {1} 추천해요.\\n\".format(score,random.choice(random.choice(category))))\n",
    "        \n",
    "    elif(score > 0.18) :\n",
    "        print(\"{0:.4f}\\n 오늘 {1} 어떠세요? 안좋은 기분을 환기시켜줄 거에요.\\n\".format(score,random.choice(random.choice(category))))\n",
    "        \n",
    "    else:\n",
    "        print(\"{0:.4f}\\n 오늘 안좋은 일이 있으셨나요. 오늘같은 날 {1} 어떨까요?\\n\".format(score,random.choice(random.choice(category))))\n",
    "    timecheck = list(timecheck)\n",
    "    avg_emo = sum(corpus)/len(corpus)\n",
    "    timecheck.append(int(now.strftime('%H')))\n",
    "    if timecheck[-1] != int(now.strftime('%H')) :\n",
    "        timecheck.append(int(now.strftime('%H')))\n",
    "        if timecheck[0]+3 == int(now.strftime('%H')):\n",
    "            if(avg_emo > 0.8):\n",
    "                print(\"{0:.4f}\\n오늘처럼 좋은 날엔 {1} 어떠신가요?\\n\".format(avg_emo,random.choice(random.choice(category))))\n",
    "\n",
    "            elif(avg_emo > 0.6): \n",
    "                print(\"{0:.4f}\\n좋은 일있으신가요? 오늘 {1} 어떠세요?\\n\".format(avg_emo,random.choice(random.choice(category))))\n",
    "\n",
    "            elif(avg_emo > 0.4) :\n",
    "                print(\"{0:.4f}\\n오늘같은 날에는 {1} 어때요? 기분이 좋아지게 해줄거에요!\\n\".format(avg_emo,random.choice(random.choice(category))))\n",
    "\n",
    "            elif(avg_emo > 0.3) :\n",
    "                print(\"{0:.4f}\\n꿀꿀한 오늘 {1} 추천해요.\\n\".format(avg_emo,random.choice(random.choice(category))))\n",
    "\n",
    "            elif(avg_emo > 0.18) :\n",
    "                print(\"{0:.4f}\\n 오늘 {1} 어떠세요? 안좋은 기분을 환기시켜줄 거에요.\\n\".format(avg_emo,random.choice(random.choice(category))))\n",
    "\n",
    "            else:\n",
    "                print(\"{0:.4f}\\n 오늘 안좋은 일이 있으셨나요. 오늘같은 날 {1} 어떨까요?\\n\".format(avg_emo,random.choice(random.choice(category))))\n",
    "                timecheck = []\n",
    "                timecheck.append(int(now.strftime('%H')))\n",
    "        elif int(now.strftime('%H')) == 0 :\n",
    "            avg_emo = (sum(corpus)/len(corpus))\n",
    "            if(avg_emo > 0.8):\n",
    "                print(\"{0:.4f}\\n오늘처럼 좋은 날엔 {1} 어떠신가요?\\n\".format(avg_emo,random.choice(random.choice(category))))\n",
    "\n",
    "            elif(avg_emo > 0.6): \n",
    "                print(\"{0:.4f}\\n좋은 일있으신가요? 오늘 {1} 어떠세요?\\n\".format(avg_emo,random.choice(random.choice(category))))\n",
    "\n",
    "            elif(avg_emo > 0.4) :\n",
    "                print(\"{0:.4f}\\n오늘같은 날에는 {1} 어때요? 기분이 좋아지게 해줄거에요!\\n\".format(avg_emo,random.choice(random.choice(category))))\n",
    "\n",
    "            elif(avg_emo > 0.3) :\n",
    "                print(\"{0:.4f}\\n꿀꿀한 오늘 {1} 추천해요.\\n\".format(avg_emo,random.choice(random.choice(category))))\n",
    "\n",
    "            elif(avg_emo > 0.18) :\n",
    "                print(\"{0:.4f}\\n 오늘 {1} 어떠세요? 안좋은 기분을 환기시켜줄 거에요.\\n\".format(avg_emo,random.choice(random.choice(category))))\n",
    "\n",
    "            else:\n",
    "                print(\"{0:.4f}\\n 오늘 안좋은 일이 있으셨나요. 오늘같은 날 {1} 어떨까요?\\n\".format(avg_emo,random.choice(random.choice(category))))\n",
    "                timecheck = []\n",
    "                timecheck.append(int(now.strftime('%H')))\n",
    "    elif timecheck[-1] == int(now.strftime('%H')):\n",
    "        timecheck = list(set(timecheck))\n",
    "\n",
    "\n",
    "    if not len(timecheck)==4:\n",
    "        corpus.append(score)\n",
    "    elif len(timecheck)==4:\n",
    "        corpus = []\n",
    "\n",
    "        "
   ]
  },
  {
   "cell_type": "code",
   "execution_count": 29,
   "id": "9987f8c7",
   "metadata": {},
   "outputs": [
    {
     "name": "stdout",
     "output_type": "stream",
     "text": [
      "안녕하세요\n",
      "0.8456\n",
      "오늘처럼 좋은 날엔 회 어떠신가요?\n",
      "\n"
     ]
    }
   ],
   "source": [
    "recomend_sys(input())"
   ]
  },
  {
   "cell_type": "code",
   "execution_count": 30,
   "id": "234492ff",
   "metadata": {},
   "outputs": [
    {
     "name": "stdout",
     "output_type": "stream",
     "text": [
      "[10]\n"
     ]
    }
   ],
   "source": [
    "print(timecheck)"
   ]
  },
  {
   "cell_type": "code",
   "execution_count": 28,
   "id": "c7030ab9",
   "metadata": {},
   "outputs": [
    {
     "name": "stdout",
     "output_type": "stream",
     "text": [
      "[0.024352967739105225, 0.01197439432144165, 0.5333399176597595, 0.3190140128135681]\n"
     ]
    }
   ],
   "source": [
    "print(corpus)"
   ]
  },
  {
   "cell_type": "code",
   "execution_count": 36,
   "id": "6bf8ace3",
   "metadata": {},
   "outputs": [
    {
     "data": {
      "text/plain": [
       "'10'"
      ]
     },
     "execution_count": 36,
     "metadata": {},
     "output_type": "execute_result"
    }
   ],
   "source": [
    "now.strftime('%H')"
   ]
  },
  {
   "cell_type": "code",
   "execution_count": null,
   "id": "f1dc5ef7",
   "metadata": {},
   "outputs": [],
   "source": []
  }
 ],
 "metadata": {
  "kernelspec": {
   "display_name": "Python 3",
   "language": "python",
   "name": "python3"
  },
  "language_info": {
   "codemirror_mode": {
    "name": "ipython",
    "version": 3
   },
   "file_extension": ".py",
   "mimetype": "text/x-python",
   "name": "python",
   "nbconvert_exporter": "python",
   "pygments_lexer": "ipython3",
   "version": "3.8.10"
  }
 },
 "nbformat": 4,
 "nbformat_minor": 5
}
