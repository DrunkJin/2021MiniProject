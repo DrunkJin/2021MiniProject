{
 "cells": [
  {
   "cell_type": "markdown",
   "id": "4f3f0d7b",
   "metadata": {},
   "source": [
    "1. 계통추출(test set 추출)  \n",
    "2. 3번 이하, 4번이하 빈도수 단어들로 구분지어 실행해보기 → 단어 몇 개 정도 남길건지 결정\n",
    "ex. 5000개 가지고 train 했을 경우의 정확도"
   ]
  },
  {
   "cell_type": "code",
   "execution_count": 1,
   "id": "67793a7e",
   "metadata": {},
   "outputs": [],
   "source": [
    "import pandas as pd\n",
    "import numpy as np\n",
    "%matplotlib inline\n",
    "import matplotlib.pyplot as plt\n",
    "import re\n",
    "import urllib.request\n",
    "from konlpy.tag import Okt\n",
    "from tensorflow.keras.preprocessing.text import Tokenizer\n",
    "from tensorflow.keras.preprocessing.sequence import pad_sequences\n",
    "from collections import Counter\n",
    "from sklearn.model_selection import train_test_split"
   ]
  },
  {
   "cell_type": "code",
   "execution_count": 2,
   "id": "8588291d",
   "metadata": {},
   "outputs": [
    {
     "data": {
      "text/html": [
       "<div>\n",
       "<style scoped>\n",
       "    .dataframe tbody tr th:only-of-type {\n",
       "        vertical-align: middle;\n",
       "    }\n",
       "\n",
       "    .dataframe tbody tr th {\n",
       "        vertical-align: top;\n",
       "    }\n",
       "\n",
       "    .dataframe thead th {\n",
       "        text-align: right;\n",
       "    }\n",
       "</style>\n",
       "<table border=\"1\" class=\"dataframe\">\n",
       "  <thead>\n",
       "    <tr style=\"text-align: right;\">\n",
       "      <th></th>\n",
       "      <th>발화</th>\n",
       "      <th>감정_int</th>\n",
       "    </tr>\n",
       "  </thead>\n",
       "  <tbody>\n",
       "    <tr>\n",
       "      <th>0</th>\n",
       "      <td>언니 동생으로 부르는게 맞는 일인가요..??</td>\n",
       "      <td>0</td>\n",
       "    </tr>\n",
       "    <tr>\n",
       "      <th>1</th>\n",
       "      <td>그냥 내 느낌일뿐겠지?</td>\n",
       "      <td>0</td>\n",
       "    </tr>\n",
       "    <tr>\n",
       "      <th>2</th>\n",
       "      <td>아직너무초기라서 그런거죠?</td>\n",
       "      <td>0</td>\n",
       "    </tr>\n",
       "    <tr>\n",
       "      <th>3</th>\n",
       "      <td>유치원버스 사고 낫다던데</td>\n",
       "      <td>0</td>\n",
       "    </tr>\n",
       "    <tr>\n",
       "      <th>4</th>\n",
       "      <td>근데 원래이런거맞나요</td>\n",
       "      <td>0</td>\n",
       "    </tr>\n",
       "    <tr>\n",
       "      <th>...</th>\n",
       "      <td>...</td>\n",
       "      <td>...</td>\n",
       "    </tr>\n",
       "    <tr>\n",
       "      <th>14129</th>\n",
       "      <td>봐봐, 이거 너무 복실복실하지?</td>\n",
       "      <td>1</td>\n",
       "    </tr>\n",
       "    <tr>\n",
       "      <th>14130</th>\n",
       "      <td>하긴 남자애니까. 별로 관심 없으려나? 그래도 여기 남성 의류 말야, 평판이 꽤 좋...</td>\n",
       "      <td>1</td>\n",
       "    </tr>\n",
       "    <tr>\n",
       "      <th>14131</th>\n",
       "      <td>이럴 땐 진짜 질색하는 표정이 된다니깐. 감탄스럽기까지 해.</td>\n",
       "      <td>1</td>\n",
       "    </tr>\n",
       "    <tr>\n",
       "      <th>14132</th>\n",
       "      <td>너무 대놓고 그러면 역효과잖니? 난 지금 이대로면 충분한걸. ……하긴, 옛날엔 페어...</td>\n",
       "      <td>1</td>\n",
       "    </tr>\n",
       "    <tr>\n",
       "      <th>14133</th>\n",
       "      <td>고맙긴요. 제가 할 수 있는 건 이 정도가 전부인걸요. 선배님, 부디 힘내세요.</td>\n",
       "      <td>1</td>\n",
       "    </tr>\n",
       "  </tbody>\n",
       "</table>\n",
       "<p>14134 rows × 2 columns</p>\n",
       "</div>"
      ],
      "text/plain": [
       "                                                      발화  감정_int\n",
       "0                               언니 동생으로 부르는게 맞는 일인가요..??       0\n",
       "1                                           그냥 내 느낌일뿐겠지?       0\n",
       "2                                         아직너무초기라서 그런거죠?       0\n",
       "3                                          유치원버스 사고 낫다던데       0\n",
       "4                                            근데 원래이런거맞나요       0\n",
       "...                                                  ...     ...\n",
       "14129                                  봐봐, 이거 너무 복실복실하지?       1\n",
       "14130  하긴 남자애니까. 별로 관심 없으려나? 그래도 여기 남성 의류 말야, 평판이 꽤 좋...       1\n",
       "14131                  이럴 땐 진짜 질색하는 표정이 된다니깐. 감탄스럽기까지 해.       1\n",
       "14132  너무 대놓고 그러면 역효과잖니? 난 지금 이대로면 충분한걸. ……하긴, 옛날엔 페어...       1\n",
       "14133       고맙긴요. 제가 할 수 있는 건 이 정도가 전부인걸요. 선배님, 부디 힘내세요.       1\n",
       "\n",
       "[14134 rows x 2 columns]"
      ]
     },
     "execution_count": 2,
     "metadata": {},
     "output_type": "execute_result"
    }
   ],
   "source": [
    "data = pd.read_csv('DS01.csv')\n",
    "data"
   ]
  },
  {
   "cell_type": "code",
   "execution_count": 3,
   "id": "1f6aae3b",
   "metadata": {},
   "outputs": [
    {
     "data": {
      "text/plain": [
       "(14075, 2)"
      ]
     },
     "execution_count": 3,
     "metadata": {},
     "output_type": "execute_result"
    }
   ],
   "source": [
    " data['발화'].nunique(), data['감정_int'].nunique()"
   ]
  },
  {
   "cell_type": "code",
   "execution_count": 4,
   "id": "0c0b15a2",
   "metadata": {},
   "outputs": [
    {
     "data": {
      "text/plain": [
       "발화        0\n",
       "감정_int    0\n",
       "dtype: int64"
      ]
     },
     "execution_count": 4,
     "metadata": {},
     "output_type": "execute_result"
    }
   ],
   "source": [
    "data.isnull().sum()"
   ]
  },
  {
   "cell_type": "code",
   "execution_count": 5,
   "id": "b038f7fc",
   "metadata": {
    "scrolled": true
   },
   "outputs": [
    {
     "data": {
      "text/html": [
       "<div>\n",
       "<style scoped>\n",
       "    .dataframe tbody tr th:only-of-type {\n",
       "        vertical-align: middle;\n",
       "    }\n",
       "\n",
       "    .dataframe tbody tr th {\n",
       "        vertical-align: top;\n",
       "    }\n",
       "\n",
       "    .dataframe thead th {\n",
       "        text-align: right;\n",
       "    }\n",
       "</style>\n",
       "<table border=\"1\" class=\"dataframe\">\n",
       "  <thead>\n",
       "    <tr style=\"text-align: right;\">\n",
       "      <th></th>\n",
       "      <th>발화</th>\n",
       "      <th>감정_int</th>\n",
       "    </tr>\n",
       "  </thead>\n",
       "  <tbody>\n",
       "    <tr>\n",
       "      <th>0</th>\n",
       "      <td>언니 동생으로 부르는게 맞는 일인가요..??</td>\n",
       "      <td>0</td>\n",
       "    </tr>\n",
       "    <tr>\n",
       "      <th>1</th>\n",
       "      <td>그냥 내 느낌일뿐겠지?</td>\n",
       "      <td>0</td>\n",
       "    </tr>\n",
       "    <tr>\n",
       "      <th>2</th>\n",
       "      <td>아직너무초기라서 그런거죠?</td>\n",
       "      <td>0</td>\n",
       "    </tr>\n",
       "    <tr>\n",
       "      <th>3</th>\n",
       "      <td>유치원버스 사고 낫다던데</td>\n",
       "      <td>0</td>\n",
       "    </tr>\n",
       "    <tr>\n",
       "      <th>4</th>\n",
       "      <td>근데 원래이런거맞나요</td>\n",
       "      <td>0</td>\n",
       "    </tr>\n",
       "    <tr>\n",
       "      <th>...</th>\n",
       "      <td>...</td>\n",
       "      <td>...</td>\n",
       "    </tr>\n",
       "    <tr>\n",
       "      <th>14129</th>\n",
       "      <td>봐봐, 이거 너무 복실복실하지?</td>\n",
       "      <td>1</td>\n",
       "    </tr>\n",
       "    <tr>\n",
       "      <th>14130</th>\n",
       "      <td>하긴 남자애니까. 별로 관심 없으려나? 그래도 여기 남성 의류 말야, 평판이 꽤 좋...</td>\n",
       "      <td>1</td>\n",
       "    </tr>\n",
       "    <tr>\n",
       "      <th>14131</th>\n",
       "      <td>이럴 땐 진짜 질색하는 표정이 된다니깐. 감탄스럽기까지 해.</td>\n",
       "      <td>1</td>\n",
       "    </tr>\n",
       "    <tr>\n",
       "      <th>14132</th>\n",
       "      <td>너무 대놓고 그러면 역효과잖니? 난 지금 이대로면 충분한걸. ……하긴, 옛날엔 페어...</td>\n",
       "      <td>1</td>\n",
       "    </tr>\n",
       "    <tr>\n",
       "      <th>14133</th>\n",
       "      <td>고맙긴요. 제가 할 수 있는 건 이 정도가 전부인걸요. 선배님, 부디 힘내세요.</td>\n",
       "      <td>1</td>\n",
       "    </tr>\n",
       "  </tbody>\n",
       "</table>\n",
       "<p>14075 rows × 2 columns</p>\n",
       "</div>"
      ],
      "text/plain": [
       "                                                      발화  감정_int\n",
       "0                               언니 동생으로 부르는게 맞는 일인가요..??       0\n",
       "1                                           그냥 내 느낌일뿐겠지?       0\n",
       "2                                         아직너무초기라서 그런거죠?       0\n",
       "3                                          유치원버스 사고 낫다던데       0\n",
       "4                                            근데 원래이런거맞나요       0\n",
       "...                                                  ...     ...\n",
       "14129                                  봐봐, 이거 너무 복실복실하지?       1\n",
       "14130  하긴 남자애니까. 별로 관심 없으려나? 그래도 여기 남성 의류 말야, 평판이 꽤 좋...       1\n",
       "14131                  이럴 땐 진짜 질색하는 표정이 된다니깐. 감탄스럽기까지 해.       1\n",
       "14132  너무 대놓고 그러면 역효과잖니? 난 지금 이대로면 충분한걸. ……하긴, 옛날엔 페어...       1\n",
       "14133       고맙긴요. 제가 할 수 있는 건 이 정도가 전부인걸요. 선배님, 부디 힘내세요.       1\n",
       "\n",
       "[14075 rows x 2 columns]"
      ]
     },
     "execution_count": 5,
     "metadata": {},
     "output_type": "execute_result"
    }
   ],
   "source": [
    "data.drop_duplicates(subset = [\"발화\"], inplace = True)\n",
    "data"
   ]
  },
  {
   "cell_type": "code",
   "execution_count": 6,
   "id": "8c0de2f5",
   "metadata": {},
   "outputs": [
    {
     "data": {
      "text/plain": [
       "('ratings_total.txt', <http.client.HTTPMessage at 0x171322d33d0>)"
      ]
     },
     "execution_count": 6,
     "metadata": {},
     "output_type": "execute_result"
    }
   ],
   "source": [
    "urllib.request.urlretrieve(\"https://raw.githubusercontent.com/bab2min/corpus/master/sentiment/naver_shopping.txt\", filename=\"ratings_total.txt\")"
   ]
  },
  {
   "cell_type": "code",
   "execution_count": 8,
   "id": "7cfa152d",
   "metadata": {},
   "outputs": [
    {
     "name": "stdout",
     "output_type": "stream",
     "text": [
      "전체 리뷰 개수 : 200000\n"
     ]
    }
   ],
   "source": [
    "shop_data = pd.read_table('ratings_total.txt', names=['ratings', '발화'])\n",
    "print('전체 리뷰 개수 :',len(shop_data)) # 전체 리뷰 개수 출력"
   ]
  },
  {
   "cell_type": "code",
   "execution_count": 9,
   "id": "2a8c4db1",
   "metadata": {},
   "outputs": [
    {
     "data": {
      "text/html": [
       "<div>\n",
       "<style scoped>\n",
       "    .dataframe tbody tr th:only-of-type {\n",
       "        vertical-align: middle;\n",
       "    }\n",
       "\n",
       "    .dataframe tbody tr th {\n",
       "        vertical-align: top;\n",
       "    }\n",
       "\n",
       "    .dataframe thead th {\n",
       "        text-align: right;\n",
       "    }\n",
       "</style>\n",
       "<table border=\"1\" class=\"dataframe\">\n",
       "  <thead>\n",
       "    <tr style=\"text-align: right;\">\n",
       "      <th></th>\n",
       "      <th>ratings</th>\n",
       "      <th>발화</th>\n",
       "      <th>감정_int</th>\n",
       "    </tr>\n",
       "  </thead>\n",
       "  <tbody>\n",
       "    <tr>\n",
       "      <th>4000</th>\n",
       "      <td>5</td>\n",
       "      <td>스타일이좋은것같아요😁👍</td>\n",
       "      <td>1</td>\n",
       "    </tr>\n",
       "    <tr>\n",
       "      <th>4001</th>\n",
       "      <td>2</td>\n",
       "      <td>싸구려같아요...... 한번을 못차고 끈어져버림..</td>\n",
       "      <td>0</td>\n",
       "    </tr>\n",
       "    <tr>\n",
       "      <th>4002</th>\n",
       "      <td>2</td>\n",
       "      <td>해외에 있어서 한국 나간김에 주문해서 가지고 왔는데 원했던 맛이 아니에요. 작년에 ...</td>\n",
       "      <td>0</td>\n",
       "    </tr>\n",
       "    <tr>\n",
       "      <th>4003</th>\n",
       "      <td>5</td>\n",
       "      <td>향도 좋고 모양도 예뻐요.</td>\n",
       "      <td>1</td>\n",
       "    </tr>\n",
       "    <tr>\n",
       "      <th>4004</th>\n",
       "      <td>1</td>\n",
       "      <td>다시는 네이버에서 과일은 사지않을듯</td>\n",
       "      <td>0</td>\n",
       "    </tr>\n",
       "  </tbody>\n",
       "</table>\n",
       "</div>"
      ],
      "text/plain": [
       "      ratings                                                 발화  감정_int\n",
       "4000        5                                       스타일이좋은것같아요😁👍       1\n",
       "4001        2                       싸구려같아요...... 한번을 못차고 끈어져버림..       0\n",
       "4002        2  해외에 있어서 한국 나간김에 주문해서 가지고 왔는데 원했던 맛이 아니에요. 작년에 ...       0\n",
       "4003        5                                     향도 좋고 모양도 예뻐요.       1\n",
       "4004        1                                다시는 네이버에서 과일은 사지않을듯       0"
      ]
     },
     "execution_count": 9,
     "metadata": {},
     "output_type": "execute_result"
    }
   ],
   "source": [
    "shop_data['감정_int'] = np.select([shop_data.ratings > 3], [1], default=0)\n",
    "shop_data[4000:4005]"
   ]
  },
  {
   "cell_type": "code",
   "execution_count": 10,
   "id": "19d874cb",
   "metadata": {},
   "outputs": [
    {
     "data": {
      "text/plain": [
       "(4, 199908, 2)"
      ]
     },
     "execution_count": 10,
     "metadata": {},
     "output_type": "execute_result"
    }
   ],
   "source": [
    "shop_data['ratings'].nunique(), shop_data['발화'].nunique(), shop_data['감정_int'].nunique()"
   ]
  },
  {
   "cell_type": "code",
   "execution_count": 12,
   "id": "3e4c2a91",
   "metadata": {},
   "outputs": [
    {
     "name": "stdout",
     "output_type": "stream",
     "text": [
      "총 샘플의 수 : 199908\n"
     ]
    }
   ],
   "source": [
    "shop_data.drop_duplicates(subset=['발화'], inplace=True) # reviews 열에서 중복인 내용이 있다면 중복 제거\n",
    "print('총 샘플의 수 :',len(shop_data))"
   ]
  },
  {
   "cell_type": "code",
   "execution_count": 13,
   "id": "732c1ace",
   "metadata": {},
   "outputs": [
    {
     "name": "stdout",
     "output_type": "stream",
     "text": [
      "False\n"
     ]
    }
   ],
   "source": [
    "print(shop_data.isnull().values.any())"
   ]
  },
  {
   "cell_type": "code",
   "execution_count": 14,
   "id": "340bdaa7",
   "metadata": {},
   "outputs": [],
   "source": [
    "shop_data = shop_data.drop(['ratings'], axis = 1)"
   ]
  },
  {
   "cell_type": "code",
   "execution_count": 15,
   "id": "9ebe9653",
   "metadata": {},
   "outputs": [
    {
     "data": {
      "text/html": [
       "<div>\n",
       "<style scoped>\n",
       "    .dataframe tbody tr th:only-of-type {\n",
       "        vertical-align: middle;\n",
       "    }\n",
       "\n",
       "    .dataframe tbody tr th {\n",
       "        vertical-align: top;\n",
       "    }\n",
       "\n",
       "    .dataframe thead th {\n",
       "        text-align: right;\n",
       "    }\n",
       "</style>\n",
       "<table border=\"1\" class=\"dataframe\">\n",
       "  <thead>\n",
       "    <tr style=\"text-align: right;\">\n",
       "      <th></th>\n",
       "      <th>발화</th>\n",
       "      <th>감정_int</th>\n",
       "    </tr>\n",
       "  </thead>\n",
       "  <tbody>\n",
       "    <tr>\n",
       "      <th>0</th>\n",
       "      <td>배공빠르고 굿</td>\n",
       "      <td>1</td>\n",
       "    </tr>\n",
       "    <tr>\n",
       "      <th>1</th>\n",
       "      <td>택배가 엉망이네용 저희집 밑에층에 말도없이 놔두고가고</td>\n",
       "      <td>0</td>\n",
       "    </tr>\n",
       "    <tr>\n",
       "      <th>2</th>\n",
       "      <td>아주좋아요 바지 정말 좋아서2개 더 구매했어요 이가격에 대박입니다. 바느질이 조금 ...</td>\n",
       "      <td>1</td>\n",
       "    </tr>\n",
       "    <tr>\n",
       "      <th>3</th>\n",
       "      <td>선물용으로 빨리 받아서 전달했어야 하는 상품이었는데 머그컵만 와서 당황했습니다. 전...</td>\n",
       "      <td>0</td>\n",
       "    </tr>\n",
       "    <tr>\n",
       "      <th>4</th>\n",
       "      <td>민트색상 예뻐요. 옆 손잡이는 거는 용도로도 사용되네요 ㅎㅎ</td>\n",
       "      <td>1</td>\n",
       "    </tr>\n",
       "    <tr>\n",
       "      <th>...</th>\n",
       "      <td>...</td>\n",
       "      <td>...</td>\n",
       "    </tr>\n",
       "    <tr>\n",
       "      <th>199995</th>\n",
       "      <td>장마라그런가!!! 달지않아요</td>\n",
       "      <td>0</td>\n",
       "    </tr>\n",
       "    <tr>\n",
       "      <th>199996</th>\n",
       "      <td>다이슨 케이스 구매했어요 다이슨 슈퍼소닉 드라이기 케이스 구매했어요가격 괜찮고 배송...</td>\n",
       "      <td>1</td>\n",
       "    </tr>\n",
       "    <tr>\n",
       "      <th>199997</th>\n",
       "      <td>로드샾에서 사는것보다 세배 저렴하네요 ㅜㅜ 자주이용할께요</td>\n",
       "      <td>1</td>\n",
       "    </tr>\n",
       "    <tr>\n",
       "      <th>199998</th>\n",
       "      <td>넘이쁘고 쎄련되보이네요~</td>\n",
       "      <td>1</td>\n",
       "    </tr>\n",
       "    <tr>\n",
       "      <th>199999</th>\n",
       "      <td>아직 사용해보지도않았고 다른 제품을 써본적이없어서 잘 모르겠지만 ㅎㅎ 배송은 빨랐습니다</td>\n",
       "      <td>1</td>\n",
       "    </tr>\n",
       "  </tbody>\n",
       "</table>\n",
       "<p>199908 rows × 2 columns</p>\n",
       "</div>"
      ],
      "text/plain": [
       "                                                       발화  감정_int\n",
       "0                                                 배공빠르고 굿       1\n",
       "1                           택배가 엉망이네용 저희집 밑에층에 말도없이 놔두고가고       0\n",
       "2       아주좋아요 바지 정말 좋아서2개 더 구매했어요 이가격에 대박입니다. 바느질이 조금 ...       1\n",
       "3       선물용으로 빨리 받아서 전달했어야 하는 상품이었는데 머그컵만 와서 당황했습니다. 전...       0\n",
       "4                       민트색상 예뻐요. 옆 손잡이는 거는 용도로도 사용되네요 ㅎㅎ       1\n",
       "...                                                   ...     ...\n",
       "199995                                    장마라그런가!!! 달지않아요       0\n",
       "199996  다이슨 케이스 구매했어요 다이슨 슈퍼소닉 드라이기 케이스 구매했어요가격 괜찮고 배송...       1\n",
       "199997                    로드샾에서 사는것보다 세배 저렴하네요 ㅜㅜ 자주이용할께요       1\n",
       "199998                                      넘이쁘고 쎄련되보이네요~       1\n",
       "199999   아직 사용해보지도않았고 다른 제품을 써본적이없어서 잘 모르겠지만 ㅎㅎ 배송은 빨랐습니다       1\n",
       "\n",
       "[199908 rows x 2 columns]"
      ]
     },
     "execution_count": 15,
     "metadata": {},
     "output_type": "execute_result"
    }
   ],
   "source": [
    "shop_data"
   ]
  },
  {
   "cell_type": "code",
   "execution_count": 16,
   "id": "3d5524e6",
   "metadata": {},
   "outputs": [],
   "source": [
    "Data = pd.concat([data, shop_data])"
   ]
  },
  {
   "cell_type": "code",
   "execution_count": 17,
   "id": "62a551f2",
   "metadata": {
    "scrolled": true
   },
   "outputs": [
    {
     "data": {
      "text/html": [
       "<div>\n",
       "<style scoped>\n",
       "    .dataframe tbody tr th:only-of-type {\n",
       "        vertical-align: middle;\n",
       "    }\n",
       "\n",
       "    .dataframe tbody tr th {\n",
       "        vertical-align: top;\n",
       "    }\n",
       "\n",
       "    .dataframe thead th {\n",
       "        text-align: right;\n",
       "    }\n",
       "</style>\n",
       "<table border=\"1\" class=\"dataframe\">\n",
       "  <thead>\n",
       "    <tr style=\"text-align: right;\">\n",
       "      <th></th>\n",
       "      <th>발화</th>\n",
       "      <th>감정_int</th>\n",
       "    </tr>\n",
       "  </thead>\n",
       "  <tbody>\n",
       "    <tr>\n",
       "      <th>0</th>\n",
       "      <td>언니 동생으로 부르는게 맞는 일인가요..??</td>\n",
       "      <td>0</td>\n",
       "    </tr>\n",
       "    <tr>\n",
       "      <th>1</th>\n",
       "      <td>그냥 내 느낌일뿐겠지?</td>\n",
       "      <td>0</td>\n",
       "    </tr>\n",
       "    <tr>\n",
       "      <th>2</th>\n",
       "      <td>아직너무초기라서 그런거죠?</td>\n",
       "      <td>0</td>\n",
       "    </tr>\n",
       "    <tr>\n",
       "      <th>3</th>\n",
       "      <td>유치원버스 사고 낫다던데</td>\n",
       "      <td>0</td>\n",
       "    </tr>\n",
       "    <tr>\n",
       "      <th>4</th>\n",
       "      <td>근데 원래이런거맞나요</td>\n",
       "      <td>0</td>\n",
       "    </tr>\n",
       "    <tr>\n",
       "      <th>...</th>\n",
       "      <td>...</td>\n",
       "      <td>...</td>\n",
       "    </tr>\n",
       "    <tr>\n",
       "      <th>199995</th>\n",
       "      <td>장마라그런가!!! 달지않아요</td>\n",
       "      <td>0</td>\n",
       "    </tr>\n",
       "    <tr>\n",
       "      <th>199996</th>\n",
       "      <td>다이슨 케이스 구매했어요 다이슨 슈퍼소닉 드라이기 케이스 구매했어요가격 괜찮고 배송...</td>\n",
       "      <td>1</td>\n",
       "    </tr>\n",
       "    <tr>\n",
       "      <th>199997</th>\n",
       "      <td>로드샾에서 사는것보다 세배 저렴하네요 ㅜㅜ 자주이용할께요</td>\n",
       "      <td>1</td>\n",
       "    </tr>\n",
       "    <tr>\n",
       "      <th>199998</th>\n",
       "      <td>넘이쁘고 쎄련되보이네요~</td>\n",
       "      <td>1</td>\n",
       "    </tr>\n",
       "    <tr>\n",
       "      <th>199999</th>\n",
       "      <td>아직 사용해보지도않았고 다른 제품을 써본적이없어서 잘 모르겠지만 ㅎㅎ 배송은 빨랐습니다</td>\n",
       "      <td>1</td>\n",
       "    </tr>\n",
       "  </tbody>\n",
       "</table>\n",
       "<p>213983 rows × 2 columns</p>\n",
       "</div>"
      ],
      "text/plain": [
       "                                                       발화  감정_int\n",
       "0                                언니 동생으로 부르는게 맞는 일인가요..??       0\n",
       "1                                            그냥 내 느낌일뿐겠지?       0\n",
       "2                                          아직너무초기라서 그런거죠?       0\n",
       "3                                           유치원버스 사고 낫다던데       0\n",
       "4                                             근데 원래이런거맞나요       0\n",
       "...                                                   ...     ...\n",
       "199995                                    장마라그런가!!! 달지않아요       0\n",
       "199996  다이슨 케이스 구매했어요 다이슨 슈퍼소닉 드라이기 케이스 구매했어요가격 괜찮고 배송...       1\n",
       "199997                    로드샾에서 사는것보다 세배 저렴하네요 ㅜㅜ 자주이용할께요       1\n",
       "199998                                      넘이쁘고 쎄련되보이네요~       1\n",
       "199999   아직 사용해보지도않았고 다른 제품을 써본적이없어서 잘 모르겠지만 ㅎㅎ 배송은 빨랐습니다       1\n",
       "\n",
       "[213983 rows x 2 columns]"
      ]
     },
     "execution_count": 17,
     "metadata": {},
     "output_type": "execute_result"
    }
   ],
   "source": [
    "Data"
   ]
  },
  {
   "cell_type": "code",
   "execution_count": 18,
   "id": "f8feef45",
   "metadata": {},
   "outputs": [
    {
     "data": {
      "text/plain": [
       "('steam.txt', <http.client.HTTPMessage at 0x1713283e760>)"
      ]
     },
     "execution_count": 18,
     "metadata": {},
     "output_type": "execute_result"
    }
   ],
   "source": [
    "urllib.request.urlretrieve(\"https://raw.githubusercontent.com/bab2min/corpus/master/sentiment/steam.txt\", filename=\"steam.txt\")"
   ]
  },
  {
   "cell_type": "code",
   "execution_count": 23,
   "id": "ca83ada4",
   "metadata": {},
   "outputs": [
    {
     "name": "stdout",
     "output_type": "stream",
     "text": [
      "전체 리뷰 개수 : 100000\n"
     ]
    }
   ],
   "source": [
    "steam_data = pd.read_table('steam.txt', names=['감정_int', '발화'])\n",
    "print('전체 리뷰 개수 :',len(steam_data)) # 전체 리뷰 개수 출력"
   ]
  },
  {
   "cell_type": "code",
   "execution_count": 24,
   "id": "5db4642a",
   "metadata": {},
   "outputs": [
    {
     "data": {
      "text/html": [
       "<div>\n",
       "<style scoped>\n",
       "    .dataframe tbody tr th:only-of-type {\n",
       "        vertical-align: middle;\n",
       "    }\n",
       "\n",
       "    .dataframe tbody tr th {\n",
       "        vertical-align: top;\n",
       "    }\n",
       "\n",
       "    .dataframe thead th {\n",
       "        text-align: right;\n",
       "    }\n",
       "</style>\n",
       "<table border=\"1\" class=\"dataframe\">\n",
       "  <thead>\n",
       "    <tr style=\"text-align: right;\">\n",
       "      <th></th>\n",
       "      <th>감정_int</th>\n",
       "      <th>발화</th>\n",
       "    </tr>\n",
       "  </thead>\n",
       "  <tbody>\n",
       "    <tr>\n",
       "      <th>0</th>\n",
       "      <td>0</td>\n",
       "      <td>노래가 너무 적음</td>\n",
       "    </tr>\n",
       "    <tr>\n",
       "      <th>1</th>\n",
       "      <td>0</td>\n",
       "      <td>돌겠네 진짜. 황숙아, 어크 공장 그만 돌려라. 죽는다.</td>\n",
       "    </tr>\n",
       "    <tr>\n",
       "      <th>2</th>\n",
       "      <td>1</td>\n",
       "      <td>막노동 체험판 막노동 하는사람인데 장비를 내가 사야돼 뭐지</td>\n",
       "    </tr>\n",
       "  </tbody>\n",
       "</table>\n",
       "</div>"
      ],
      "text/plain": [
       "   감정_int                                발화\n",
       "0       0                         노래가 너무 적음\n",
       "1       0   돌겠네 진짜. 황숙아, 어크 공장 그만 돌려라. 죽는다.\n",
       "2       1  막노동 체험판 막노동 하는사람인데 장비를 내가 사야돼 뭐지"
      ]
     },
     "execution_count": 24,
     "metadata": {},
     "output_type": "execute_result"
    }
   ],
   "source": [
    "steam_data[:3]"
   ]
  },
  {
   "cell_type": "code",
   "execution_count": 26,
   "id": "231b532f",
   "metadata": {},
   "outputs": [
    {
     "data": {
      "text/plain": [
       "(99892, 2)"
      ]
     },
     "execution_count": 26,
     "metadata": {},
     "output_type": "execute_result"
    }
   ],
   "source": [
    "steam_data['발화'].nunique(), steam_data['감정_int'].nunique()"
   ]
  },
  {
   "cell_type": "code",
   "execution_count": 27,
   "id": "9ae665f4",
   "metadata": {},
   "outputs": [
    {
     "name": "stdout",
     "output_type": "stream",
     "text": [
      "False\n"
     ]
    }
   ],
   "source": [
    "print(steam_data.isnull().values.any())"
   ]
  },
  {
   "cell_type": "code",
   "execution_count": 28,
   "id": "e1e8e8bc",
   "metadata": {},
   "outputs": [],
   "source": [
    "Data1 = pd.concat([Data, steam_data])"
   ]
  },
  {
   "cell_type": "code",
   "execution_count": 31,
   "id": "821d2471",
   "metadata": {},
   "outputs": [
    {
     "data": {
      "text/html": [
       "<div>\n",
       "<style scoped>\n",
       "    .dataframe tbody tr th:only-of-type {\n",
       "        vertical-align: middle;\n",
       "    }\n",
       "\n",
       "    .dataframe tbody tr th {\n",
       "        vertical-align: top;\n",
       "    }\n",
       "\n",
       "    .dataframe thead th {\n",
       "        text-align: right;\n",
       "    }\n",
       "</style>\n",
       "<table border=\"1\" class=\"dataframe\">\n",
       "  <thead>\n",
       "    <tr style=\"text-align: right;\">\n",
       "      <th></th>\n",
       "      <th>발화</th>\n",
       "      <th>감정_int</th>\n",
       "    </tr>\n",
       "  </thead>\n",
       "  <tbody>\n",
       "    <tr>\n",
       "      <th>0</th>\n",
       "      <td>언니 동생으로 부르는게 맞는 일인가요..??</td>\n",
       "      <td>0</td>\n",
       "    </tr>\n",
       "    <tr>\n",
       "      <th>1</th>\n",
       "      <td>그냥 내 느낌일뿐겠지?</td>\n",
       "      <td>0</td>\n",
       "    </tr>\n",
       "    <tr>\n",
       "      <th>2</th>\n",
       "      <td>아직너무초기라서 그런거죠?</td>\n",
       "      <td>0</td>\n",
       "    </tr>\n",
       "    <tr>\n",
       "      <th>3</th>\n",
       "      <td>유치원버스 사고 낫다던데</td>\n",
       "      <td>0</td>\n",
       "    </tr>\n",
       "    <tr>\n",
       "      <th>4</th>\n",
       "      <td>근데 원래이런거맞나요</td>\n",
       "      <td>0</td>\n",
       "    </tr>\n",
       "    <tr>\n",
       "      <th>...</th>\n",
       "      <td>...</td>\n",
       "      <td>...</td>\n",
       "    </tr>\n",
       "    <tr>\n",
       "      <th>99995</th>\n",
       "      <td>한글화해주면 10개산다</td>\n",
       "      <td>0</td>\n",
       "    </tr>\n",
       "    <tr>\n",
       "      <th>99996</th>\n",
       "      <td>개쌉노잼 ㅋㅋ</td>\n",
       "      <td>0</td>\n",
       "    </tr>\n",
       "    <tr>\n",
       "      <th>99997</th>\n",
       "      <td>노잼이네요... 30분하고 지웠어요...</td>\n",
       "      <td>0</td>\n",
       "    </tr>\n",
       "    <tr>\n",
       "      <th>99998</th>\n",
       "      <td>야생을 사랑하는 사람들을 위한 짧지만 여운이 남는 이야기. 영어는 그리 어렵지 않습니다.</td>\n",
       "      <td>1</td>\n",
       "    </tr>\n",
       "    <tr>\n",
       "      <th>99999</th>\n",
       "      <td>한국의 메탈레이지를 떠오르게한다 진짜 손맛으로 하는게임</td>\n",
       "      <td>1</td>\n",
       "    </tr>\n",
       "  </tbody>\n",
       "</table>\n",
       "<p>313983 rows × 2 columns</p>\n",
       "</div>"
      ],
      "text/plain": [
       "                                                      발화  감정_int\n",
       "0                               언니 동생으로 부르는게 맞는 일인가요..??       0\n",
       "1                                           그냥 내 느낌일뿐겠지?       0\n",
       "2                                         아직너무초기라서 그런거죠?       0\n",
       "3                                          유치원버스 사고 낫다던데       0\n",
       "4                                            근데 원래이런거맞나요       0\n",
       "...                                                  ...     ...\n",
       "99995                                       한글화해주면 10개산다       0\n",
       "99996                                            개쌉노잼 ㅋㅋ       0\n",
       "99997                             노잼이네요... 30분하고 지웠어요...       0\n",
       "99998  야생을 사랑하는 사람들을 위한 짧지만 여운이 남는 이야기. 영어는 그리 어렵지 않습니다.       1\n",
       "99999                     한국의 메탈레이지를 떠오르게한다 진짜 손맛으로 하는게임       1\n",
       "\n",
       "[313983 rows x 2 columns]"
      ]
     },
     "execution_count": 31,
     "metadata": {},
     "output_type": "execute_result"
    }
   ],
   "source": [
    "Data1"
   ]
  },
  {
   "cell_type": "code",
   "execution_count": 32,
   "id": "619ee7e7",
   "metadata": {},
   "outputs": [
    {
     "data": {
      "text/plain": [
       "('ratings_test.txt', <http.client.HTTPMessage at 0x1713a132040>)"
      ]
     },
     "execution_count": 32,
     "metadata": {},
     "output_type": "execute_result"
    }
   ],
   "source": [
    "urllib.request.urlretrieve(\"https://raw.githubusercontent.com/e9t/nsmc/master/ratings_train.txt\", filename=\"ratings_train.txt\")\n",
    "urllib.request.urlretrieve(\"https://raw.githubusercontent.com/e9t/nsmc/master/ratings_test.txt\", filename=\"ratings_test.txt\")"
   ]
  },
  {
   "cell_type": "code",
   "execution_count": 33,
   "id": "e898d0b0",
   "metadata": {},
   "outputs": [],
   "source": [
    "movie1_data = pd.read_table('ratings_train.txt')\n",
    "movie2_data = pd.read_table('ratings_test.txt')"
   ]
  },
  {
   "cell_type": "code",
   "execution_count": 40,
   "id": "1c905a88",
   "metadata": {},
   "outputs": [],
   "source": [
    "movie1_data = movie1_data.drop(['id'], axis=1)\n",
    "movie2_data = movie2_data.drop(['id'], axis=1)"
   ]
  },
  {
   "cell_type": "code",
   "execution_count": 45,
   "id": "cf790b3c",
   "metadata": {},
   "outputs": [],
   "source": [
    "movie1_data.columns=['발화', '감정_int']\n",
    "movie2_data.columns=['발화', '감정_int']"
   ]
  },
  {
   "cell_type": "code",
   "execution_count": 47,
   "id": "b60b6351",
   "metadata": {},
   "outputs": [
    {
     "data": {
      "text/html": [
       "<div>\n",
       "<style scoped>\n",
       "    .dataframe tbody tr th:only-of-type {\n",
       "        vertical-align: middle;\n",
       "    }\n",
       "\n",
       "    .dataframe tbody tr th {\n",
       "        vertical-align: top;\n",
       "    }\n",
       "\n",
       "    .dataframe thead th {\n",
       "        text-align: right;\n",
       "    }\n",
       "</style>\n",
       "<table border=\"1\" class=\"dataframe\">\n",
       "  <thead>\n",
       "    <tr style=\"text-align: right;\">\n",
       "      <th></th>\n",
       "      <th>발화</th>\n",
       "      <th>감정_int</th>\n",
       "    </tr>\n",
       "  </thead>\n",
       "  <tbody>\n",
       "    <tr>\n",
       "      <th>0</th>\n",
       "      <td>언니 동생으로 부르는게 맞는 일인가요..??</td>\n",
       "      <td>0</td>\n",
       "    </tr>\n",
       "    <tr>\n",
       "      <th>1</th>\n",
       "      <td>그냥 내 느낌일뿐겠지?</td>\n",
       "      <td>0</td>\n",
       "    </tr>\n",
       "    <tr>\n",
       "      <th>2</th>\n",
       "      <td>아직너무초기라서 그런거죠?</td>\n",
       "      <td>0</td>\n",
       "    </tr>\n",
       "    <tr>\n",
       "      <th>3</th>\n",
       "      <td>유치원버스 사고 낫다던데</td>\n",
       "      <td>0</td>\n",
       "    </tr>\n",
       "    <tr>\n",
       "      <th>4</th>\n",
       "      <td>근데 원래이런거맞나요</td>\n",
       "      <td>0</td>\n",
       "    </tr>\n",
       "    <tr>\n",
       "      <th>...</th>\n",
       "      <td>...</td>\n",
       "      <td>...</td>\n",
       "    </tr>\n",
       "    <tr>\n",
       "      <th>49995</th>\n",
       "      <td>오랜만에 평점 로긴했네ㅋㅋ 킹왕짱 쌈뽕한 영화를 만났습니다 강렬하게 육쾌함</td>\n",
       "      <td>1</td>\n",
       "    </tr>\n",
       "    <tr>\n",
       "      <th>49996</th>\n",
       "      <td>의지 박약들이나 하는거다 탈영은 일단 주인공 김대희 닮았고 이등병 찐따 OOOO</td>\n",
       "      <td>0</td>\n",
       "    </tr>\n",
       "    <tr>\n",
       "      <th>49997</th>\n",
       "      <td>그림도 좋고 완성도도 높았지만... 보는 내내 불안하게 만든다</td>\n",
       "      <td>0</td>\n",
       "    </tr>\n",
       "    <tr>\n",
       "      <th>49998</th>\n",
       "      <td>절대 봐서는 안 될 영화.. 재미도 없고 기분만 잡치고.. 한 세트장에서 다 해먹네</td>\n",
       "      <td>0</td>\n",
       "    </tr>\n",
       "    <tr>\n",
       "      <th>49999</th>\n",
       "      <td>마무리는 또 왜이래</td>\n",
       "      <td>0</td>\n",
       "    </tr>\n",
       "  </tbody>\n",
       "</table>\n",
       "<p>413983 rows × 2 columns</p>\n",
       "</div>"
      ],
      "text/plain": [
       "                                                   발화  감정_int\n",
       "0                            언니 동생으로 부르는게 맞는 일인가요..??       0\n",
       "1                                        그냥 내 느낌일뿐겠지?       0\n",
       "2                                      아직너무초기라서 그런거죠?       0\n",
       "3                                       유치원버스 사고 낫다던데       0\n",
       "4                                         근데 원래이런거맞나요       0\n",
       "...                                               ...     ...\n",
       "49995       오랜만에 평점 로긴했네ㅋㅋ 킹왕짱 쌈뽕한 영화를 만났습니다 강렬하게 육쾌함       1\n",
       "49996    의지 박약들이나 하는거다 탈영은 일단 주인공 김대희 닮았고 이등병 찐따 OOOO       0\n",
       "49997              그림도 좋고 완성도도 높았지만... 보는 내내 불안하게 만든다       0\n",
       "49998  절대 봐서는 안 될 영화.. 재미도 없고 기분만 잡치고.. 한 세트장에서 다 해먹네       0\n",
       "49999                                      마무리는 또 왜이래       0\n",
       "\n",
       "[413983 rows x 2 columns]"
      ]
     },
     "execution_count": 47,
     "metadata": {},
     "output_type": "execute_result"
    }
   ],
   "source": [
    "Data = pd.concat([Data, movie1_data, movie2_data])\n",
    "Data"
   ]
  },
  {
   "cell_type": "code",
   "execution_count": 50,
   "id": "3467b9ff",
   "metadata": {},
   "outputs": [
    {
     "name": "stdout",
     "output_type": "stream",
     "text": [
      "훈련용 리뷰의 개수 : 372584\n",
      "테스트용 리뷰의 개수 : 41399\n"
     ]
    }
   ],
   "source": [
    "from sklearn.model_selection import train_test_split\n",
    "train, test = train_test_split(Data, test_size=0.1, random_state=210617)\n",
    "print('훈련용 리뷰의 개수 :', len(train))\n",
    "print('테스트용 리뷰의 개수 :', len(test))"
   ]
  },
  {
   "cell_type": "code",
   "execution_count": 51,
   "id": "43cb4c56",
   "metadata": {
    "scrolled": true
   },
   "outputs": [
    {
     "name": "stdout",
     "output_type": "stream",
     "text": [
      "   감정_int   count\n",
      "0       0  186188\n",
      "1       1  186396\n"
     ]
    },
    {
     "data": {
      "image/png": "[encoded data removed]",
      "text/plain": [
       "<Figure size 432x288 with 1 Axes>"
      ]
     },
     "metadata": {
      "needs_background": "light"
     },
     "output_type": "display_data"
    }
   ],
   "source": [
    "train['감정_int'].value_counts().plot(kind = 'bar')\n",
    "print(train.groupby('감정_int').size().reset_index(name = 'count'))"
   ]
  },
  {
   "cell_type": "code",
   "execution_count": 52,
   "id": "211cc82d",
   "metadata": {},
   "outputs": [
    {
     "data": {
      "text/html": [
       "<div>\n",
       "<style scoped>\n",
       "    .dataframe tbody tr th:only-of-type {\n",
       "        vertical-align: middle;\n",
       "    }\n",
       "\n",
       "    .dataframe tbody tr th {\n",
       "        vertical-align: top;\n",
       "    }\n",
       "\n",
       "    .dataframe thead th {\n",
       "        text-align: right;\n",
       "    }\n",
       "</style>\n",
       "<table border=\"1\" class=\"dataframe\">\n",
       "  <thead>\n",
       "    <tr style=\"text-align: right;\">\n",
       "      <th></th>\n",
       "      <th>발화</th>\n",
       "      <th>감정_int</th>\n",
       "    </tr>\n",
       "  </thead>\n",
       "  <tbody>\n",
       "    <tr>\n",
       "      <th>35888</th>\n",
       "      <td>시간이 아깝다...</td>\n",
       "      <td>0</td>\n",
       "    </tr>\n",
       "    <tr>\n",
       "      <th>120081</th>\n",
       "      <td>잘받아ㅏㅆ습니다 ㄴㅇ</td>\n",
       "      <td>1</td>\n",
       "    </tr>\n",
       "    <tr>\n",
       "      <th>125718</th>\n",
       "      <td>아직써보진안았는데 포장상태가 아니네요</td>\n",
       "      <td>0</td>\n",
       "    </tr>\n",
       "    <tr>\n",
       "      <th>147631</th>\n",
       "      <td>좋아요 아기때메 폰을ㅈ두고나두는일이 많았는데 줄이오고난후로는 매일들고 다니네요~~시...</td>\n",
       "      <td>1</td>\n",
       "    </tr>\n",
       "    <tr>\n",
       "      <th>164842</th>\n",
       "      <td>아직 안입어봤는데 괜찮을듯</td>\n",
       "      <td>1</td>\n",
       "    </tr>\n",
       "    <tr>\n",
       "      <th>...</th>\n",
       "      <td>...</td>\n",
       "      <td>...</td>\n",
       "    </tr>\n",
       "    <tr>\n",
       "      <th>8533</th>\n",
       "      <td>항상 응원하고 있습니다~~^^</td>\n",
       "      <td>1</td>\n",
       "    </tr>\n",
       "    <tr>\n",
       "      <th>152354</th>\n",
       "      <td>생각보다.. 설치를 못했어요ㅜㅜ 공간이작아여</td>\n",
       "      <td>0</td>\n",
       "    </tr>\n",
       "    <tr>\n",
       "      <th>3368</th>\n",
       "      <td>재밌다. 깔끔하게 마무리되는 결말도 좋고,, 주변에 대해 아무런 신경도 쓰지않는 현...</td>\n",
       "      <td>1</td>\n",
       "    </tr>\n",
       "    <tr>\n",
       "      <th>112198</th>\n",
       "      <td>작은 나이롱 지퍼는 물론이고 바느질상태가 완전 허접합니다. 사이즈는 생각보다 작고 ...</td>\n",
       "      <td>0</td>\n",
       "    </tr>\n",
       "    <tr>\n",
       "      <th>24849</th>\n",
       "      <td>♥</td>\n",
       "      <td>1</td>\n",
       "    </tr>\n",
       "  </tbody>\n",
       "</table>\n",
       "<p>372584 rows × 2 columns</p>\n",
       "</div>"
      ],
      "text/plain": [
       "                                                       발화  감정_int\n",
       "35888                                          시간이 아깝다...       0\n",
       "120081                                        잘받아ㅏㅆ습니다 ㄴㅇ       1\n",
       "125718                               아직써보진안았는데 포장상태가 아니네요       0\n",
       "147631  좋아요 아기때메 폰을ㅈ두고나두는일이 많았는데 줄이오고난후로는 매일들고 다니네요~~시...       1\n",
       "164842                                     아직 안입어봤는데 괜찮을듯       1\n",
       "...                                                   ...     ...\n",
       "8533                                     항상 응원하고 있습니다~~^^       1\n",
       "152354                           생각보다.. 설치를 못했어요ㅜㅜ 공간이작아여       0\n",
       "3368    재밌다. 깔끔하게 마무리되는 결말도 좋고,, 주변에 대해 아무런 신경도 쓰지않는 현...       1\n",
       "112198  작은 나이롱 지퍼는 물론이고 바느질상태가 완전 허접합니다. 사이즈는 생각보다 작고 ...       0\n",
       "24849                                                   ♥       1\n",
       "\n",
       "[372584 rows x 2 columns]"
      ]
     },
     "execution_count": 52,
     "metadata": {},
     "output_type": "execute_result"
    }
   ],
   "source": [
    "train"
   ]
  },
  {
   "cell_type": "code",
   "execution_count": 53,
   "id": "3fde582c",
   "metadata": {},
   "outputs": [
    {
     "name": "stderr",
     "output_type": "stream",
     "text": [
      "<ipython-input-53-2981e347a926>:1: FutureWarning: The default value of regex will change from True to False in a future version.\n",
      "  train['발화'] = train['발화'].str.replace(\"[^ㄱ-ㅎㅏ-ㅣ가-힣 ]\",\"\")\n",
      "<ipython-input-53-2981e347a926>:1: SettingWithCopyWarning: \n",
      "A value is trying to be set on a copy of a slice from a DataFrame.\n",
      "Try using .loc[row_indexer,col_indexer] = value instead\n",
      "\n",
      "See the caveats in the documentation: https://pandas.pydata.org/pandas-docs/stable/user_guide/indexing.html#returning-a-view-versus-a-copy\n",
      "  train['발화'] = train['발화'].str.replace(\"[^ㄱ-ㅎㅏ-ㅣ가-힣 ]\",\"\")\n",
      "<ipython-input-53-2981e347a926>:2: FutureWarning: The default value of regex will change from True to False in a future version.\n",
      "  test['발화'] = test['발화'].str.replace(\"[^ㄱ-ㅎㅏ-ㅣ가-힣 ]\",\"\")\n",
      "<ipython-input-53-2981e347a926>:2: SettingWithCopyWarning: \n",
      "A value is trying to be set on a copy of a slice from a DataFrame.\n",
      "Try using .loc[row_indexer,col_indexer] = value instead\n",
      "\n",
      "See the caveats in the documentation: https://pandas.pydata.org/pandas-docs/stable/user_guide/indexing.html#returning-a-view-versus-a-copy\n",
      "  test['발화'] = test['발화'].str.replace(\"[^ㄱ-ㅎㅏ-ㅣ가-힣 ]\",\"\")\n"
     ]
    }
   ],
   "source": [
    "train['발화'] = train['발화'].str.replace(\"[^ㄱ-ㅎㅏ-ㅣ가-힣 ]\",\"\")\n",
    "test['발화'] = test['발화'].str.replace(\"[^ㄱ-ㅎㅏ-ㅣ가-힣 ]\",\"\")"
   ]
  },
  {
   "cell_type": "code",
   "execution_count": 54,
   "id": "731d5880",
   "metadata": {},
   "outputs": [
    {
     "name": "stderr",
     "output_type": "stream",
     "text": [
      "<ipython-input-54-aa04aa4f771e>:1: FutureWarning: The default value of regex will change from True to False in a future version.\n",
      "  train['발화'] = train['발화'].str.replace('^ +', \"\")\n"
     ]
    },
    {
     "name": "stdout",
     "output_type": "stream",
     "text": [
      "발화        1520\n",
      "감정_int       0\n",
      "dtype: int64\n",
      "발화        166\n",
      "감정_int      0\n",
      "dtype: int64\n"
     ]
    },
    {
     "name": "stderr",
     "output_type": "stream",
     "text": [
      "<ipython-input-54-aa04aa4f771e>:1: SettingWithCopyWarning: \n",
      "A value is trying to be set on a copy of a slice from a DataFrame.\n",
      "Try using .loc[row_indexer,col_indexer] = value instead\n",
      "\n",
      "See the caveats in the documentation: https://pandas.pydata.org/pandas-docs/stable/user_guide/indexing.html#returning-a-view-versus-a-copy\n",
      "  train['발화'] = train['발화'].str.replace('^ +', \"\")\n",
      "<ipython-input-54-aa04aa4f771e>:2: FutureWarning: The default value of regex will change from True to False in a future version.\n",
      "  test['발화'] = test['발화'].str.replace('^ +', \"\")\n",
      "<ipython-input-54-aa04aa4f771e>:2: SettingWithCopyWarning: \n",
      "A value is trying to be set on a copy of a slice from a DataFrame.\n",
      "Try using .loc[row_indexer,col_indexer] = value instead\n",
      "\n",
      "See the caveats in the documentation: https://pandas.pydata.org/pandas-docs/stable/user_guide/indexing.html#returning-a-view-versus-a-copy\n",
      "  test['발화'] = test['발화'].str.replace('^ +', \"\")\n",
      "C:\\Users\\user\\.conda\\envs\\gz\\lib\\site-packages\\pandas\\core\\series.py:4509: SettingWithCopyWarning: \n",
      "A value is trying to be set on a copy of a slice from a DataFrame\n",
      "\n",
      "See the caveats in the documentation: https://pandas.pydata.org/pandas-docs/stable/user_guide/indexing.html#returning-a-view-versus-a-copy\n",
      "  return super().replace(\n"
     ]
    }
   ],
   "source": [
    "train['발화'] = train['발화'].str.replace('^ +', \"\")\n",
    "test['발화'] = test['발화'].str.replace('^ +', \"\")\n",
    "train['발화'].replace('', np.nan, inplace = True)\n",
    "test['발화'].replace('', np.nan, inplace = True)\n",
    "print(train.isnull().sum())\n",
    "print(test.isnull().sum())"
   ]
  },
  {
   "cell_type": "code",
   "execution_count": 55,
   "id": "85973515",
   "metadata": {},
   "outputs": [
    {
     "name": "stdout",
     "output_type": "stream",
     "text": [
      "발화        0\n",
      "감정_int    0\n",
      "dtype: int64\n",
      "발화        0\n",
      "감정_int    0\n",
      "dtype: int64\n",
      "전처리 후 트레인용 샘플의 개수 : 371064\n",
      "전처리 후 테스트용 샘플의 개수 : 41233\n"
     ]
    }
   ],
   "source": [
    "train.loc[train.발화.isnull()][:10]\n",
    "test.loc[test.발화.isnull()][:10]\n",
    "train = train.dropna(how='any')\n",
    "test = test.dropna(how='any')\n",
    "print(train.isnull().sum())\n",
    "print(test.isnull().sum())\n",
    "print('전처리 후 트레인용 샘플의 개수 :',len(train))\n",
    "print('전처리 후 테스트용 샘플의 개수 :',len(test))"
   ]
  },
  {
   "cell_type": "code",
   "execution_count": 56,
   "id": "83ab7a8c",
   "metadata": {},
   "outputs": [
    {
     "data": {
      "text/plain": [
       "['오다', '이렇다', '것', '도', '영화', '라고', '차라리', '뮤직비디오', '를', '만들다', '게', '나다', '뻔']"
      ]
     },
     "execution_count": 56,
     "metadata": {},
     "output_type": "execute_result"
    }
   ],
   "source": [
    "stopwords = ['도', '는', '다', '의', '가', '이', '은', '한', '에', '하', '고', '을', '를', '인', '듯', '과', '와', '네', '들', '듯', '지', '임', '게']\n",
    "okt = Okt()\n",
    "okt.morphs('와 이런 것도 영화라고 차라리 뮤직비디오를 만드는 게 나을 뻔', stem = True)"
   ]
  },
  {
   "cell_type": "code",
   "execution_count": 57,
   "id": "662e636d",
   "metadata": {},
   "outputs": [],
   "source": [
    "# 제대로 나누기\n",
    "\n",
    "t_train = [] # 75%\n",
    "t_test = [] # 25%\n",
    "for sentence in train['발화']:\n",
    "    temp_X = okt.morphs(sentence, stem = True) # 토큰화\n",
    "    temp_X = [word for word in temp_X if not word in stopwords] # 불용어 제거\n",
    "    t_train.append(temp_X)\n",
    "    \n",
    "for sentence in test['발화']:\n",
    "    temp_X = okt.morphs(sentence, stem = True) # 토큰화\n",
    "    temp_X = [word for word in temp_X if not word in stopwords] # 불용어 제거\n",
    "    t_test.append(temp_X)"
   ]
  },
  {
   "cell_type": "markdown",
   "id": "53b9932b",
   "metadata": {},
   "source": [
    "import nltk\n",
    "nltk.download('punkt')\n",
    "nltk.download('treebank')\n",
    "\n",
    "from nltk.tokenize import word_tokenize\n",
    "from nltk.tokenize import WordPunctTokenizer\n",
    "from nltk.tokenize import TreebankWordTokenizer\n",
    "\n",
    "tb_tokenizer = TreebankWordTokenizer()"
   ]
  },
  {
   "cell_type": "code",
   "execution_count": 58,
   "id": "c9d2433b",
   "metadata": {},
   "outputs": [],
   "source": [
    "tokenizer = Tokenizer()\n",
    "tokenizer.fit_on_texts(t_train)\n",
    "tokenizer.fit_on_texts(t_test)"
   ]
  },
  {
   "cell_type": "code",
   "execution_count": 59,
   "id": "43f0e31d",
   "metadata": {},
   "outputs": [],
   "source": [
    "import pickle\n",
    " \n",
    "## Save pickle\n",
    "with open(\"bigdatasenti.pickle\",\"wb\") as fw:\n",
    "    pickle.dump(tokenizer, fw)\n",
    " \n"
   ]
  },
  {
   "cell_type": "code",
   "execution_count": 60,
   "id": "2819529e",
   "metadata": {},
   "outputs": [
    {
     "name": "stdout",
     "output_type": "stream",
     "text": [
      "단어 집합(vocabulary)의 크기 : 75397\n",
      "등장 빈도가 0번 이하인 희귀 단어의 수: 0\n",
      "단어 집합에서 희귀 단어의 비율: 0.0\n",
      "전체 등장 빈도에서 희귀 단어 등장 빈도 비율: 0.0\n"
     ]
    }
   ],
   "source": [
    "threshold = 1\n",
    "total_cnt = len(tokenizer.word_index) # 단어의 수\n",
    "rare_cnt = 0 # 등장 빈도수가 threshold보다 작은 단어의 개수를 카운트\n",
    "total_freq = 0 # 훈련 데이터의 전체 단어 빈도수 총 합\n",
    "rare_freq = 0 # 등장 빈도수가 threshold보다 작은 단어의 등장 빈도수의 총 합\n",
    "\n",
    "# 단어와 빈도수의 쌍(pair)을 key와 value로 받는다.\n",
    "for key, value in tokenizer.word_counts.items():\n",
    "    total_freq = total_freq + value\n",
    "\n",
    "    # 단어의 등장 빈도수가 threshold보다 작으면\n",
    "    if(value < threshold):\n",
    "        rare_cnt = rare_cnt + 1\n",
    "        rare_freq = rare_freq + value\n",
    "\n",
    "print('단어 집합(vocabulary)의 크기 :',total_cnt)\n",
    "print('등장 빈도가 %s번 이하인 희귀 단어의 수: %s'%(threshold - 1, rare_cnt))\n",
    "print(\"단어 집합에서 희귀 단어의 비율:\", (rare_cnt / total_cnt) * 100)\n",
    "print(\"전체 등장 빈도에서 희귀 단어 등장 빈도 비율:\", (rare_freq / total_freq) * 100)"
   ]
  },
  {
   "cell_type": "code",
   "execution_count": 61,
   "id": "297901ae",
   "metadata": {},
   "outputs": [
    {
     "name": "stdout",
     "output_type": "stream",
     "text": [
      "단어 집합의 크기 : 75398\n"
     ]
    }
   ],
   "source": [
    "# 전체 단어 개수 중 빈도수 2이하인 단어는 제거.\n",
    "# 0번 패딩 토큰을 고려하여 + 1\n",
    "vocab_size = total_cnt - rare_cnt + 1\n",
    "print('단어 집합의 크기 :', vocab_size)"
   ]
  },
  {
   "cell_type": "code",
   "execution_count": null,
   "id": "73bc0100",
   "metadata": {},
   "outputs": [],
   "source": []
  },
  {
   "cell_type": "markdown",
   "id": "c292fb96",
   "metadata": {},
   "source": [
    "# 빈도수 높은 단어 확인"
   ]
  },
  {
   "cell_type": "markdown",
   "id": "5a11b1a3",
   "metadata": {},
   "source": [
    "# 알고리즘 수정 전 수정"
   ]
  },
  {
   "cell_type": "code",
   "execution_count": 62,
   "id": "eaa0e17a",
   "metadata": {},
   "outputs": [
    {
     "data": {
      "text/html": [
       "<div>\n",
       "<style scoped>\n",
       "    .dataframe tbody tr th:only-of-type {\n",
       "        vertical-align: middle;\n",
       "    }\n",
       "\n",
       "    .dataframe tbody tr th {\n",
       "        vertical-align: top;\n",
       "    }\n",
       "\n",
       "    .dataframe thead th {\n",
       "        text-align: right;\n",
       "    }\n",
       "</style>\n",
       "<table border=\"1\" class=\"dataframe\">\n",
       "  <thead>\n",
       "    <tr style=\"text-align: right;\">\n",
       "      <th></th>\n",
       "      <th>발화</th>\n",
       "      <th>감정_int</th>\n",
       "    </tr>\n",
       "  </thead>\n",
       "  <tbody>\n",
       "    <tr>\n",
       "      <th>35888</th>\n",
       "      <td>시간이 아깝다</td>\n",
       "      <td>0</td>\n",
       "    </tr>\n",
       "    <tr>\n",
       "      <th>120081</th>\n",
       "      <td>잘받아ㅏㅆ습니다 ㄴㅇ</td>\n",
       "      <td>1</td>\n",
       "    </tr>\n",
       "    <tr>\n",
       "      <th>125718</th>\n",
       "      <td>아직써보진안았는데 포장상태가 아니네요</td>\n",
       "      <td>0</td>\n",
       "    </tr>\n",
       "  </tbody>\n",
       "</table>\n",
       "</div>"
      ],
      "text/plain": [
       "                          발화  감정_int\n",
       "35888                시간이 아깝다       0\n",
       "120081           잘받아ㅏㅆ습니다 ㄴㅇ       1\n",
       "125718  아직써보진안았는데 포장상태가 아니네요       0"
      ]
     },
     "execution_count": 62,
     "metadata": {},
     "output_type": "execute_result"
    }
   ],
   "source": [
    "train[:3]"
   ]
  },
  {
   "cell_type": "code",
   "execution_count": 63,
   "id": "4c2e1ddc",
   "metadata": {},
   "outputs": [],
   "source": [
    "t_train1 = tokenizer.texts_to_sequences(t_train)\n",
    "t_test1 = tokenizer.texts_to_sequences(t_test)"
   ]
  },
  {
   "cell_type": "code",
   "execution_count": 64,
   "id": "e0801dda",
   "metadata": {},
   "outputs": [],
   "source": [
    "e_train = train['감정_int']\n",
    "e_test = test['감정_int']"
   ]
  },
  {
   "cell_type": "code",
   "execution_count": 65,
   "id": "8b3a8e35",
   "metadata": {},
   "outputs": [
    {
     "name": "stdout",
     "output_type": "stream",
     "text": [
      "문장의 최대 길이 : 69\n",
      "문장의 평균 길이 : 11.467458443826402\n"
     ]
    },
    {
     "data": {
      "image/png": "[encoded data removed]",
      "text/plain": [
       "<Figure size 432x288 with 1 Axes>"
      ]
     },
     "metadata": {
      "needs_background": "light"
     },
     "output_type": "display_data"
    }
   ],
   "source": [
    "print('문장의 최대 길이 :',max(len(l) for l in t_train1))\n",
    "print('문장의 평균 길이 :',sum(map(len, t_train1))/len(t_train1))\n",
    "plt.hist([len(s) for s in t_train1], bins=50)\n",
    "plt.xlabel('length of samples')\n",
    "plt.ylabel('number of samples')\n",
    "plt.show()"
   ]
  },
  {
   "cell_type": "code",
   "execution_count": 66,
   "id": "24096af7",
   "metadata": {},
   "outputs": [],
   "source": [
    "def below_threshold_len(max_len, nested_list):\n",
    "  cnt = 0\n",
    "  for s in nested_list:\n",
    "    if(len(s) <= max_len):\n",
    "        cnt = cnt + 1\n",
    "  print('전체 샘플 중 길이가 %s 이하인 샘플의 비율: %s'%(max_len, (cnt / len(nested_list))*100))"
   ]
  },
  {
   "cell_type": "code",
   "execution_count": 71,
   "id": "c6f56d08",
   "metadata": {},
   "outputs": [
    {
     "name": "stdout",
     "output_type": "stream",
     "text": [
      "전체 샘플 중 길이가 42 이하인 샘플의 비율: 99.18666321712696\n"
     ]
    }
   ],
   "source": [
    "max_len = 42\n",
    "below_threshold_len(max_len, t_train1)"
   ]
  },
  {
   "cell_type": "code",
   "execution_count": 72,
   "id": "bb529723",
   "metadata": {},
   "outputs": [],
   "source": [
    "t_train2 = pad_sequences(t_train1, maxlen = max_len)\n",
    "# t_train11, t_train22 = tokenizer.texts_to_sequences\n",
    "t_test2 = pad_sequences(t_test1, maxlen = max_len)"
   ]
  },
  {
   "cell_type": "code",
   "execution_count": 73,
   "id": "601ce752",
   "metadata": {},
   "outputs": [],
   "source": [
    "from keras import models\n",
    "from tensorflow.keras.layers import Embedding, Dense, LSTM, GRU, Dropout\n",
    "from tensorflow.keras.models import Sequential\n",
    "from tensorflow.keras.models import load_model\n",
    "from tensorflow.keras.callbacks import EarlyStopping, ModelCheckpoint"
   ]
  },
  {
   "cell_type": "code",
   "execution_count": 89,
   "id": "f208d43c",
   "metadata": {},
   "outputs": [
    {
     "name": "stdout",
     "output_type": "stream",
     "text": [
      "Model: \"sequential_1\"\n",
      "_________________________________________________________________\n",
      "Layer (type)                 Output Shape              Param #   \n",
      "=================================================================\n",
      "embedding_1 (Embedding)      (None, None, 100)         7539800   \n",
      "_________________________________________________________________\n",
      "gru_1 (GRU)                  (None, 128)               88320     \n",
      "_________________________________________________________________\n",
      "dense_1 (Dense)              (None, 1)                 129       \n",
      "=================================================================\n",
      "Total params: 7,628,249\n",
      "Trainable params: 7,628,249\n",
      "Non-trainable params: 0\n",
      "_________________________________________________________________\n",
      "Epoch 1/15\n",
      "50/50 [==============================] - 141s 3s/step - loss: 0.1770 - acc: 0.7541 - val_loss: 0.1131 - val_acc: 0.8460\n",
      "\n",
      "Epoch 00001: val_acc improved from -inf to 0.84601, saving model to best_model.h5\n",
      "Epoch 2/15\n",
      "50/50 [==============================] - 142s 3s/step - loss: 0.1002 - acc: 0.8655 - val_loss: 0.1013 - val_acc: 0.8634\n",
      "\n",
      "Epoch 00002: val_acc improved from 0.84601 to 0.86335, saving model to best_model.h5\n",
      "Epoch 3/15\n",
      "50/50 [==============================] - 143s 3s/step - loss: 0.0890 - acc: 0.8833 - val_loss: 0.1011 - val_acc: 0.8641\n",
      "\n",
      "Epoch 00003: val_acc improved from 0.86335 to 0.86407, saving model to best_model.h5\n",
      "Epoch 4/15\n",
      "50/50 [==============================] - 141s 3s/step - loss: 0.0830 - acc: 0.8934 - val_loss: 0.1018 - val_acc: 0.8629\n",
      "\n",
      "Epoch 00004: val_acc did not improve from 0.86407\n",
      "Epoch 5/15\n",
      "50/50 [==============================] - 142s 3s/step - loss: 0.0788 - acc: 0.8997 - val_loss: 0.1036 - val_acc: 0.8617\n",
      "\n",
      "Epoch 00005: val_acc did not improve from 0.86407\n",
      "Epoch 6/15\n",
      "50/50 [==============================] - 141s 3s/step - loss: 0.0751 - acc: 0.9054 - val_loss: 0.1047 - val_acc: 0.8612\n",
      "\n",
      "Epoch 00006: val_acc did not improve from 0.86407\n",
      "Epoch 7/15\n",
      "50/50 [==============================] - 140s 3s/step - loss: 0.0719 - acc: 0.9099 - val_loss: 0.1057 - val_acc: 0.8607\n",
      "\n",
      "Epoch 00007: val_acc did not improve from 0.86407\n",
      "Epoch 00007: early stopping\n"
     ]
    }
   ],
   "source": [
    "model = Sequential()\n",
    "model.add(Embedding(vocab_size, 100))\n",
    "model.add(GRU(128))\n",
    "model.add(Dense(1, activation='sigmoid'))\n",
    "\n",
    "model.summary()\n",
    "\n",
    "es = EarlyStopping(monitor='val_loss', mode='min', verbose=1, patience=4)\n",
    "mc = ModelCheckpoint('best_model.h5', monitor='val_acc', mode='max', verbose=1, save_best_only=True)\n",
    "\n",
    "model.compile(optimizer='adam', loss='mse', metrics=['acc'])\n",
    "history = model.fit(t_train2, e_train, epochs=15, callbacks=[es, mc], batch_size=6000, validation_split=0.2)"
   ]
  },
  {
   "cell_type": "code",
   "execution_count": 90,
   "id": "2141cc08",
   "metadata": {},
   "outputs": [
    {
     "name": "stdout",
     "output_type": "stream",
     "text": [
      "1289/1289 [==============================] - 8s 6ms/step - loss: 0.1016 - acc: 0.8626\n",
      "\n",
      " 테스트 정확도: 0.8626\n"
     ]
    }
   ],
   "source": [
    "loaded_model = load_model('best_model.h5')\n",
    "print(\"\\n 테스트 정확도: %.4f\" % (loaded_model.evaluate(t_test2, e_test)[1]))"
   ]
  },
  {
   "cell_type": "code",
   "execution_count": 102,
   "id": "bf099c2a",
   "metadata": {},
   "outputs": [
    {
     "name": "stdout",
     "output_type": "stream",
     "text": [
      "Model: \"sequential_5\"\n",
      "_________________________________________________________________\n",
      "Layer (type)                 Output Shape              Param #   \n",
      "=================================================================\n",
      "embedding_5 (Embedding)      (None, None, 100)         4687000   \n",
      "_________________________________________________________________\n",
      "gru_5 (GRU)                  (None, None, 128)         88320     \n",
      "_________________________________________________________________\n",
      "gru_6 (GRU)                  (None, 32)                15552     \n",
      "_________________________________________________________________\n",
      "dense_17 (Dense)             (None, 1)                 33        \n",
      "=================================================================\n",
      "Total params: 4,790,905\n",
      "Trainable params: 4,790,905\n",
      "Non-trainable params: 0\n",
      "_________________________________________________________________\n"
     ]
    }
   ],
   "source": [
    "loaded_model.summary()"
   ]
  },
  {
   "cell_type": "code",
   "execution_count": 76,
   "id": "115be216",
   "metadata": {},
   "outputs": [],
   "source": [
    "def sentiment_predict(new_sentence):\n",
    "    new_sentence = okt.morphs(new_sentence, stem=True) # 토큰화\n",
    "    new_sentence = [word for word in new_sentence if not word in stopwords] # 불용어 제거\n",
    "    encoded = tokenizer.texts_to_sequences([new_sentence]) # 정수 인코딩\n",
    "    pad_new = pad_sequences(encoded, maxlen = max_len) # 패딩\n",
    "    score = float(loaded_model.predict(pad_new)) # 예측\n",
    "    if(score > 0.8):\n",
    "        print(\"{:.4f}행복합니다.\\n\".format(score))\n",
    "    elif(score > 0.6) :\n",
    "        print(\"{:.4f}약간 기분이 좋습니다.\\n\".format(score))\n",
    "    elif(score > 0.4) :\n",
    "        print(\"{:.4f}약간 기분이 안좋습니다.\\n\".format(score))\n",
    "    elif(score > 0.2) :\n",
    "        print(\"{:.4f}기분이 나쁩니다.\\n\".format(score))\n",
    "    else:\n",
    "        print(\"{:.4f}기분이 매우 나쁩니다.\\n\".format(score))"
   ]
  },
  {
   "cell_type": "code",
   "execution_count": 77,
   "id": "5f5c0d9f",
   "metadata": {},
   "outputs": [
    {
     "name": "stdout",
     "output_type": "stream",
     "text": [
      "0.0721기분이 매우 나쁩니다.\n",
      "\n"
     ]
    }
   ],
   "source": [
    "sentiment_predict('뭐가 문제야')"
   ]
  },
  {
   "cell_type": "code",
   "execution_count": 78,
   "id": "fc49eaff",
   "metadata": {},
   "outputs": [
    {
     "name": "stdout",
     "output_type": "stream",
     "text": [
      "0에 가까우면 부정, 1에 가까우면 긍정\n",
      "\n",
      "0.0710기분이 매우 나쁩니다.\n",
      "\n"
     ]
    }
   ],
   "source": [
    "print('0에 가까우면 부정, 1에 가까우면 긍정\\n')\n",
    "sentiment_predict('아 진짜 짜증난다 이게 뭐냐 되는 일도 없고')"
   ]
  },
  {
   "cell_type": "code",
   "execution_count": 79,
   "id": "138ede30",
   "metadata": {},
   "outputs": [
    {
     "name": "stdout",
     "output_type": "stream",
     "text": [
      "0에 가까우면 부정, 1에 가까우면 긍정\n",
      "\n",
      "0.3535기분이 나쁩니다.\n",
      "\n"
     ]
    }
   ],
   "source": [
    "print('0에 가까우면 부정, 1에 가까우면 긍정\\n')\n",
    "sentiment_predict('오늘 야근이라서')"
   ]
  },
  {
   "cell_type": "code",
   "execution_count": 80,
   "id": "9ea5700b",
   "metadata": {},
   "outputs": [
    {
     "name": "stdout",
     "output_type": "stream",
     "text": [
      "0에 가까우면 부정, 1에 가까우면 긍정\n",
      "\n",
      "0.5124약간 기분이 안좋습니다.\n",
      "\n"
     ]
    }
   ],
   "source": [
    "print('0에 가까우면 부정, 1에 가까우면 긍정\\n')\n",
    "sentiment_predict('오늘 데이트 어디서 할까??')"
   ]
  },
  {
   "cell_type": "code",
   "execution_count": 81,
   "id": "58173f27",
   "metadata": {},
   "outputs": [
    {
     "name": "stdout",
     "output_type": "stream",
     "text": [
      "0에 가까우면 부정, 1에 가까우면 긍정\n",
      "\n",
      "0.0239기분이 매우 나쁩니다.\n",
      "\n"
     ]
    }
   ],
   "source": [
    "print('0에 가까우면 부정, 1에 가까우면 긍정\\n')\n",
    "sentiment_predict('저희 조 망했어요')"
   ]
  },
  {
   "cell_type": "code",
   "execution_count": 82,
   "id": "81fb3dde",
   "metadata": {
    "scrolled": false
   },
   "outputs": [
    {
     "name": "stdout",
     "output_type": "stream",
     "text": [
      "0에 가까우면 부정, 1에 가까우면 긍정\n",
      "\n",
      "0.2111기분이 나쁩니다.\n",
      "\n"
     ]
    }
   ],
   "source": [
    "print('0에 가까우면 부정, 1에 가까우면 긍정\\n')\n",
    "sentiment_predict('오늘 집에 가서 뭐하지?')"
   ]
  },
  {
   "cell_type": "code",
   "execution_count": 83,
   "id": "1e27acd3",
   "metadata": {},
   "outputs": [
    {
     "name": "stdout",
     "output_type": "stream",
     "text": [
      "0.8033행복합니다.\n",
      "\n"
     ]
    }
   ],
   "source": [
    "sentiment_predict('그래주면 좋겠는데 괜찮겠어?')"
   ]
  },
  {
   "cell_type": "code",
   "execution_count": 84,
   "id": "e1fbe699",
   "metadata": {},
   "outputs": [
    {
     "name": "stdout",
     "output_type": "stream",
     "text": [
      "0.3135기분이 나쁩니다.\n",
      "\n"
     ]
    }
   ],
   "source": [
    "sentiment_predict('이번주는 시험기간')"
   ]
  },
  {
   "cell_type": "code",
   "execution_count": 85,
   "id": "87b79be8",
   "metadata": {},
   "outputs": [
    {
     "name": "stdout",
     "output_type": "stream",
     "text": [
      "0.9956행복합니다.\n",
      "\n"
     ]
    }
   ],
   "source": [
    "sentiment_predict('축하축하')"
   ]
  },
  {
   "cell_type": "code",
   "execution_count": 86,
   "id": "86918577",
   "metadata": {},
   "outputs": [
    {
     "name": "stdout",
     "output_type": "stream",
     "text": [
      "0.9418행복합니다.\n",
      "\n"
     ]
    }
   ],
   "source": [
    "sentiment_predict('날도 좋은데 시원하게 맥주 한잔 콜?')"
   ]
  },
  {
   "cell_type": "code",
   "execution_count": 87,
   "id": "e35a5b00",
   "metadata": {},
   "outputs": [
    {
     "name": "stdout",
     "output_type": "stream",
     "text": [
      "0.9336행복합니다.\n",
      "\n"
     ]
    }
   ],
   "source": [
    "sentiment_predict('이현지 최고~~~~')"
   ]
  },
  {
   "cell_type": "code",
   "execution_count": 88,
   "id": "355add51",
   "metadata": {},
   "outputs": [
    {
     "data": {
      "image/png": "[encoded data removed]",
      "text/plain": [
       "<Figure size 432x288 with 1 Axes>"
      ]
     },
     "metadata": {
      "needs_background": "light"
     },
     "output_type": "display_data"
    }
   ],
   "source": [
    "# 테스트 셋의 오차\n",
    "y_vloss = history.history['val_loss']\n",
    "\n",
    "# 학습셋의 오차\n",
    "y_loss = history.history['loss']\n",
    "\n",
    "# 그래프로 표현\n",
    "x_len = np.arange(len(y_loss))\n",
    "plt.plot(x_len, y_vloss, marker='.', c=\"red\", label='Testset_loss')\n",
    "plt.plot(x_len, y_loss, marker='.', c=\"blue\", label='Trainset_loss')\n",
    "\n",
    "# 그래프에 그리드를 주고 레이블을 표시\n",
    "plt.legend(loc='upper right')\n",
    "plt.grid()\n",
    "plt.xlabel('epoch')\n",
    "plt.ylabel('loss')\n",
    "plt.show()"
   ]
  },
  {
   "cell_type": "code",
   "execution_count": 177,
   "id": "aa73a385",
   "metadata": {},
   "outputs": [
    {
     "data": {
      "image/png": "[encoded data removed]",
      "text/plain": [
       "<Figure size 432x288 with 1 Axes>"
      ]
     },
     "metadata": {
      "needs_background": "light"
     },
     "output_type": "display_data"
    }
   ],
   "source": [
    " # 테스트 셋의 오차\n",
    "y_vloss = history.history['val_loss']\n",
    "\n",
    "# 학습셋의 오차\n",
    "y_loss = history.history['loss']\n",
    "\n",
    "# 그래프로 표현\n",
    "x_len = np.arange(len(y_loss))\n",
    "plt.plot(x_len, y_vloss, marker='.', c=\"red\", label='Testset_loss')\n",
    "plt.plot(x_len, y_loss, marker='.', c=\"blue\", label='Trainset_loss')\n",
    "\n",
    "# 그래프에 그리드를 주고 레이블을 표시\n",
    "plt.legend(loc='upper right')\n",
    "plt.grid()\n",
    "plt.xlabel('epoch')\n",
    "plt.ylabel('loss')\n",
    "plt.show()"
   ]
  },
  {
   "cell_type": "code",
   "execution_count": 91,
   "id": "4bee01c2",
   "metadata": {},
   "outputs": [
    {
     "data": {
      "image/png": "[encoded data removed]",
      "text/plain": [
       "<Figure size 432x288 with 1 Axes>"
      ]
     },
     "metadata": {
      "needs_background": "light"
     },
     "output_type": "display_data"
    }
   ],
   "source": [
    " # 테스트 셋의 오차\n",
    "y_vloss = history.history['val_loss']\n",
    "\n",
    "# 학습셋의 오차\n",
    "y_loss = history.history['loss']\n",
    "\n",
    "# 그래프로 표현\n",
    "x_len = np.arange(len(y_loss))\n",
    "plt.plot(x_len, y_vloss, marker='.', c=\"red\", label='Testset_loss')\n",
    "plt.plot(x_len, y_loss, marker='.', c=\"blue\", label='Trainset_loss')\n",
    "\n",
    "# 그래프에 그리드를 주고 레이블을 표시\n",
    "plt.legend(loc='upper right')\n",
    "plt.grid()\n",
    "plt.xlabel('epoch')\n",
    "plt.ylabel('loss')\n",
    "plt.show()"
   ]
  },
  {
   "cell_type": "code",
   "execution_count": null,
   "id": "c2c64596",
   "metadata": {},
   "outputs": [],
   "source": []
  }
 ],
 "metadata": {
  "kernelspec": {
   "display_name": "Python 3",
   "language": "python",
   "name": "python3"
  },
  "language_info": {
   "codemirror_mode": {
    "name": "ipython",
    "version": 3
   },
   "file_extension": ".py",
   "mimetype": "text/x-python",
   "name": "python",
   "nbconvert_exporter": "python",
   "pygments_lexer": "ipython3",
   "version": "3.8.10"
  }
 },
 "nbformat": 4,
 "nbformat_minor": 5
}
